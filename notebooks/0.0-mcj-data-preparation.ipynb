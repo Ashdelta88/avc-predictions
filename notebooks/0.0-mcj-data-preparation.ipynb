{
 "cells": [
  {
   "cell_type": "markdown",
   "source": [
    "## Overview\n",
    "\n",
    "### Data preparation for analysis\n",
    "\n",
    "* Read Excel file\n",
    "* Configure the correct data type from columns\n",
    "* Transform to parquet"
   ],
   "metadata": {
    "collapsed": false
   }
  },
  {
   "cell_type": "code",
   "execution_count": 13,
   "outputs": [],
   "source": [
    "import pandas as pd"
   ],
   "metadata": {
    "collapsed": false
   }
  },
  {
   "cell_type": "code",
   "execution_count": 14,
   "outputs": [],
   "source": [
    "df_raw = pd.read_excel(\"../data/raw/CUIABA_CARDIO_AVC0310.xls\")"
   ],
   "metadata": {
    "collapsed": false
   }
  },
  {
   "cell_type": "code",
   "execution_count": 15,
   "outputs": [],
   "source": [
    "df_raw = df_raw.drop(columns=\"T07\")\n",
    "df_raw = df_raw.dropna(subset=\"PRESS\")"
   ],
   "metadata": {
    "collapsed": false
   }
  },
  {
   "cell_type": "code",
   "execution_count": 16,
   "outputs": [
    {
     "name": "stdout",
     "output_type": "stream",
     "text": [
      "<class 'pandas.core.frame.DataFrame'>\n",
      "Int64Index: 1064 entries, 0 to 1095\n",
      "Data columns (total 34 columns):\n",
      " #   Column     Non-Null Count  Dtype         \n",
      "---  ------     --------------  -----         \n",
      " 0   DATA       1064 non-null   datetime64[ns]\n",
      " 1   co_ppb     1064 non-null   float64       \n",
      " 2   pm25_ugm3  1057 non-null   float64       \n",
      " 3   so2_ugm3   1064 non-null   float64       \n",
      " 4   NO2_NOVO   1064 non-null   float64       \n",
      " 5   OZ_MICRO   1064 non-null   float64       \n",
      " 6   TMAX       1064 non-null   float64       \n",
      " 7   T03        1049 non-null   float64       \n",
      " 8   T05        1048 non-null   float64       \n",
      " 9   TMIN       1050 non-null   float64       \n",
      " 10  UR         1058 non-null   float64       \n",
      " 11  PRESS      1064 non-null   float64       \n",
      " 12  DS         1064 non-null   int64         \n",
      " 13  LD         1064 non-null   int64         \n",
      " 14  LAG0       1064 non-null   int64         \n",
      " 15  LAG1       1063 non-null   float64       \n",
      " 16  LAG2       1062 non-null   float64       \n",
      " 17  LAG3       1061 non-null   float64       \n",
      " 18  LAG4       1060 non-null   float64       \n",
      " 19  LAG5       1059 non-null   float64       \n",
      " 20  LAG6       1058 non-null   float64       \n",
      " 21  LAG7       1057 non-null   float64       \n",
      " 22  LOAVC      1064 non-null   int64         \n",
      " 23  L1AVC      1063 non-null   float64       \n",
      " 24  L2AVC      1062 non-null   float64       \n",
      " 25  Ç3AVC      1061 non-null   float64       \n",
      " 26  L4AVC      1060 non-null   float64       \n",
      " 27  L5AVC      1059 non-null   float64       \n",
      " 28  L6AVC      1064 non-null   int64         \n",
      " 29  L7AVC      1057 non-null   float64       \n",
      " 30  DIFERTEMP  1040 non-null   float64       \n",
      " 31  VAR00001   1064 non-null   int64         \n",
      " 32  TAPMIN     1063 non-null   float64       \n",
      " 33  TAPMAX     1064 non-null   float64       \n",
      "dtypes: datetime64[ns](1), float64(27), int64(6)\n",
      "memory usage: 290.9 KB\n"
     ]
    }
   ],
   "source": [
    "df_raw.info()"
   ],
   "metadata": {
    "collapsed": false
   }
  },
  {
   "cell_type": "code",
   "execution_count": 17,
   "outputs": [
    {
     "data": {
      "text/plain": "DATA         datetime64[ns]\nco_ppb              float64\npm25_ugm3           float64\nso2_ugm3            float64\nNO2_NOVO            float64\nOZ_MICRO            float64\nTMAX                float64\nT03                 float64\nT05                 float64\nTMIN                float64\nUR                  float64\nPRESS               float64\nDS                    int64\nLD                    int64\nLAG0                  int64\nLAG1                float64\nLAG2                float64\nLAG3                float64\nLAG4                float64\nLAG5                float64\nLAG6                float64\nLAG7                float64\nLOAVC                 int64\nL1AVC               float64\nL2AVC               float64\nÇ3AVC               float64\nL4AVC               float64\nL5AVC               float64\nL6AVC                 int64\nL7AVC               float64\nDIFERTEMP           float64\nVAR00001              int64\nTAPMIN              float64\nTAPMAX              float64\ndtype: object"
     },
     "execution_count": 17,
     "metadata": {},
     "output_type": "execute_result"
    }
   ],
   "source": [
    "df_raw.dtypes"
   ],
   "metadata": {
    "collapsed": false
   }
  },
  {
   "cell_type": "code",
   "execution_count": 10,
   "outputs": [],
   "source": [
    "df_raw = df_raw.rename(columns={\"LOAVC\": \"L0AVC\", \"Ç3AVC\": \"L3AVC\"})"
   ],
   "metadata": {
    "collapsed": false
   }
  },
  {
   "cell_type": "code",
   "execution_count": 11,
   "outputs": [
    {
     "ename": "IntCastingNaNError",
     "evalue": "Cannot convert non-finite values (NA or inf) to integer",
     "output_type": "error",
     "traceback": [
      "\u001B[0;31m---------------------------------------------------------------------------\u001B[0m",
      "\u001B[0;31mIntCastingNaNError\u001B[0m                        Traceback (most recent call last)",
      "Cell \u001B[0;32mIn [11], line 3\u001B[0m\n\u001B[1;32m      1\u001B[0m df_raw_clean \u001B[38;5;241m=\u001B[39m df_raw\n\u001B[0;32m----> 3\u001B[0m df_raw_clean \u001B[38;5;241m=\u001B[39m \u001B[43mdf_raw_clean\u001B[49m\u001B[38;5;241;43m.\u001B[39;49m\u001B[43mastype\u001B[49m\u001B[43m(\u001B[49m\u001B[43m{\u001B[49m\u001B[38;5;124;43m\"\u001B[39;49m\u001B[38;5;124;43mLAG0\u001B[39;49m\u001B[38;5;124;43m\"\u001B[39;49m\u001B[43m:\u001B[49m\u001B[43m \u001B[49m\u001B[38;5;124;43m\"\u001B[39;49m\u001B[38;5;124;43mint16\u001B[39;49m\u001B[38;5;124;43m\"\u001B[39;49m\u001B[43m,\u001B[49m\u001B[43m \u001B[49m\u001B[38;5;124;43m\"\u001B[39;49m\u001B[38;5;124;43mLAG1\u001B[39;49m\u001B[38;5;124;43m\"\u001B[39;49m\u001B[43m:\u001B[49m\u001B[43m \u001B[49m\u001B[38;5;124;43m\"\u001B[39;49m\u001B[38;5;124;43mint16\u001B[39;49m\u001B[38;5;124;43m\"\u001B[39;49m\u001B[43m,\u001B[49m\u001B[43m \u001B[49m\u001B[38;5;124;43m\"\u001B[39;49m\u001B[38;5;124;43mLAG2\u001B[39;49m\u001B[38;5;124;43m\"\u001B[39;49m\u001B[43m:\u001B[49m\u001B[43m \u001B[49m\u001B[38;5;124;43m\"\u001B[39;49m\u001B[38;5;124;43mint16\u001B[39;49m\u001B[38;5;124;43m\"\u001B[39;49m\u001B[43m,\u001B[49m\u001B[43m \u001B[49m\u001B[38;5;124;43m\"\u001B[39;49m\u001B[38;5;124;43mLAG3\u001B[39;49m\u001B[38;5;124;43m\"\u001B[39;49m\u001B[43m:\u001B[49m\u001B[43m \u001B[49m\u001B[38;5;124;43m\"\u001B[39;49m\u001B[38;5;124;43mint16\u001B[39;49m\u001B[38;5;124;43m\"\u001B[39;49m\u001B[43m,\u001B[49m\n\u001B[1;32m      4\u001B[0m \u001B[43m                                    \u001B[49m\u001B[38;5;124;43m\"\u001B[39;49m\u001B[38;5;124;43mLAG4\u001B[39;49m\u001B[38;5;124;43m\"\u001B[39;49m\u001B[43m:\u001B[49m\u001B[43m \u001B[49m\u001B[38;5;124;43m\"\u001B[39;49m\u001B[38;5;124;43mint16\u001B[39;49m\u001B[38;5;124;43m\"\u001B[39;49m\u001B[43m,\u001B[49m\u001B[43m \u001B[49m\u001B[38;5;124;43m\"\u001B[39;49m\u001B[38;5;124;43mLAG5\u001B[39;49m\u001B[38;5;124;43m\"\u001B[39;49m\u001B[43m:\u001B[49m\u001B[43m \u001B[49m\u001B[38;5;124;43m\"\u001B[39;49m\u001B[38;5;124;43mint16\u001B[39;49m\u001B[38;5;124;43m\"\u001B[39;49m\u001B[43m,\u001B[49m\u001B[43m \u001B[49m\u001B[38;5;124;43m\"\u001B[39;49m\u001B[38;5;124;43mLAG6\u001B[39;49m\u001B[38;5;124;43m\"\u001B[39;49m\u001B[43m:\u001B[49m\u001B[43m \u001B[49m\u001B[38;5;124;43m\"\u001B[39;49m\u001B[38;5;124;43mint16\u001B[39;49m\u001B[38;5;124;43m\"\u001B[39;49m\u001B[43m,\u001B[49m\n\u001B[1;32m      5\u001B[0m \u001B[43m                                    \u001B[49m\u001B[38;5;124;43m\"\u001B[39;49m\u001B[38;5;124;43mLAG7\u001B[39;49m\u001B[38;5;124;43m\"\u001B[39;49m\u001B[43m:\u001B[49m\u001B[43m \u001B[49m\u001B[38;5;124;43m\"\u001B[39;49m\u001B[38;5;124;43mint16\u001B[39;49m\u001B[38;5;124;43m\"\u001B[39;49m\u001B[43m,\u001B[49m\u001B[43m \u001B[49m\u001B[38;5;124;43m\"\u001B[39;49m\u001B[38;5;124;43mL0AVC\u001B[39;49m\u001B[38;5;124;43m\"\u001B[39;49m\u001B[43m:\u001B[49m\u001B[43m \u001B[49m\u001B[38;5;124;43m\"\u001B[39;49m\u001B[38;5;124;43mint16\u001B[39;49m\u001B[38;5;124;43m\"\u001B[39;49m\u001B[43m,\u001B[49m\u001B[43m \u001B[49m\u001B[38;5;124;43m\"\u001B[39;49m\u001B[38;5;124;43mL1AVC\u001B[39;49m\u001B[38;5;124;43m\"\u001B[39;49m\u001B[43m:\u001B[49m\u001B[43m \u001B[49m\u001B[38;5;124;43m\"\u001B[39;49m\u001B[38;5;124;43mint16\u001B[39;49m\u001B[38;5;124;43m\"\u001B[39;49m\u001B[43m,\u001B[49m\n\u001B[1;32m      6\u001B[0m \u001B[43m                                    \u001B[49m\u001B[38;5;124;43m\"\u001B[39;49m\u001B[38;5;124;43mL2AVC\u001B[39;49m\u001B[38;5;124;43m\"\u001B[39;49m\u001B[43m:\u001B[49m\u001B[43m \u001B[49m\u001B[38;5;124;43m\"\u001B[39;49m\u001B[38;5;124;43mint16\u001B[39;49m\u001B[38;5;124;43m\"\u001B[39;49m\u001B[43m,\u001B[49m\u001B[43m \u001B[49m\u001B[38;5;124;43m\"\u001B[39;49m\u001B[38;5;124;43mL3AVC\u001B[39;49m\u001B[38;5;124;43m\"\u001B[39;49m\u001B[43m:\u001B[49m\u001B[43m \u001B[49m\u001B[38;5;124;43m\"\u001B[39;49m\u001B[38;5;124;43mint16\u001B[39;49m\u001B[38;5;124;43m\"\u001B[39;49m\u001B[43m,\u001B[49m\u001B[43m \u001B[49m\u001B[38;5;124;43m\"\u001B[39;49m\u001B[38;5;124;43mL4AVC\u001B[39;49m\u001B[38;5;124;43m\"\u001B[39;49m\u001B[43m:\u001B[49m\u001B[43m \u001B[49m\u001B[38;5;124;43m\"\u001B[39;49m\u001B[38;5;124;43mint16\u001B[39;49m\u001B[38;5;124;43m\"\u001B[39;49m\u001B[43m,\u001B[49m\n\u001B[1;32m      7\u001B[0m \u001B[43m                                    \u001B[49m\u001B[38;5;124;43m\"\u001B[39;49m\u001B[38;5;124;43mL5AVC\u001B[39;49m\u001B[38;5;124;43m\"\u001B[39;49m\u001B[43m:\u001B[49m\u001B[43m \u001B[49m\u001B[38;5;124;43m\"\u001B[39;49m\u001B[38;5;124;43mint16\u001B[39;49m\u001B[38;5;124;43m\"\u001B[39;49m\u001B[43m,\u001B[49m\u001B[43m \u001B[49m\u001B[38;5;124;43m\"\u001B[39;49m\u001B[38;5;124;43mL6AVC\u001B[39;49m\u001B[38;5;124;43m\"\u001B[39;49m\u001B[43m:\u001B[49m\u001B[43m \u001B[49m\u001B[38;5;124;43m\"\u001B[39;49m\u001B[38;5;124;43mint16\u001B[39;49m\u001B[38;5;124;43m\"\u001B[39;49m\u001B[43m,\u001B[49m\u001B[43m \u001B[49m\u001B[38;5;124;43m\"\u001B[39;49m\u001B[38;5;124;43mL7AVC\u001B[39;49m\u001B[38;5;124;43m\"\u001B[39;49m\u001B[43m:\u001B[49m\u001B[43m \u001B[49m\u001B[38;5;124;43m\"\u001B[39;49m\u001B[38;5;124;43mint16\u001B[39;49m\u001B[38;5;124;43m\"\u001B[39;49m\u001B[43m,\u001B[49m\n\u001B[1;32m      8\u001B[0m \u001B[43m                                    \u001B[49m\u001B[38;5;124;43m\"\u001B[39;49m\u001B[38;5;124;43mco_ppb\u001B[39;49m\u001B[38;5;124;43m\"\u001B[39;49m\u001B[43m:\u001B[49m\u001B[43m \u001B[49m\u001B[38;5;124;43m\"\u001B[39;49m\u001B[38;5;124;43mfloat16\u001B[39;49m\u001B[38;5;124;43m\"\u001B[39;49m\u001B[43m,\u001B[49m\u001B[43m \u001B[49m\u001B[38;5;124;43m\"\u001B[39;49m\u001B[38;5;124;43mpm25_ugm3\u001B[39;49m\u001B[38;5;124;43m\"\u001B[39;49m\u001B[43m:\u001B[49m\u001B[43m \u001B[49m\u001B[38;5;124;43m\"\u001B[39;49m\u001B[38;5;124;43mfloat16\u001B[39;49m\u001B[38;5;124;43m\"\u001B[39;49m\u001B[43m,\u001B[49m\u001B[43m \u001B[49m\u001B[38;5;124;43m\"\u001B[39;49m\u001B[38;5;124;43mso2_ugm3\u001B[39;49m\u001B[38;5;124;43m\"\u001B[39;49m\u001B[43m:\u001B[49m\u001B[43m \u001B[49m\u001B[38;5;124;43m\"\u001B[39;49m\u001B[38;5;124;43mfloat16\u001B[39;49m\u001B[38;5;124;43m\"\u001B[39;49m\u001B[43m,\u001B[49m\n\u001B[1;32m      9\u001B[0m \u001B[43m                                    \u001B[49m\u001B[38;5;124;43m\"\u001B[39;49m\u001B[38;5;124;43mNO2_NOVO\u001B[39;49m\u001B[38;5;124;43m\"\u001B[39;49m\u001B[43m:\u001B[49m\u001B[43m \u001B[49m\u001B[38;5;124;43m\"\u001B[39;49m\u001B[38;5;124;43mfloat16\u001B[39;49m\u001B[38;5;124;43m\"\u001B[39;49m\u001B[43m,\u001B[49m\u001B[43m \u001B[49m\u001B[38;5;124;43m\"\u001B[39;49m\u001B[38;5;124;43mOZ_MICRO\u001B[39;49m\u001B[38;5;124;43m\"\u001B[39;49m\u001B[43m:\u001B[49m\u001B[43m \u001B[49m\u001B[38;5;124;43m\"\u001B[39;49m\u001B[38;5;124;43mfloat16\u001B[39;49m\u001B[38;5;124;43m\"\u001B[39;49m\u001B[43m,\u001B[49m\u001B[43m \u001B[49m\u001B[38;5;124;43m\"\u001B[39;49m\u001B[38;5;124;43mTMAX\u001B[39;49m\u001B[38;5;124;43m\"\u001B[39;49m\u001B[43m:\u001B[49m\u001B[43m \u001B[49m\u001B[38;5;124;43m\"\u001B[39;49m\u001B[38;5;124;43mfloat16\u001B[39;49m\u001B[38;5;124;43m\"\u001B[39;49m\u001B[43m,\u001B[49m\n\u001B[1;32m     10\u001B[0m \u001B[43m                                    \u001B[49m\u001B[38;5;124;43m\"\u001B[39;49m\u001B[38;5;124;43mT03\u001B[39;49m\u001B[38;5;124;43m\"\u001B[39;49m\u001B[43m:\u001B[49m\u001B[43m \u001B[49m\u001B[38;5;124;43m\"\u001B[39;49m\u001B[38;5;124;43mfloat16\u001B[39;49m\u001B[38;5;124;43m\"\u001B[39;49m\u001B[43m,\u001B[49m\u001B[43m \u001B[49m\u001B[38;5;124;43m\"\u001B[39;49m\u001B[38;5;124;43mT05\u001B[39;49m\u001B[38;5;124;43m\"\u001B[39;49m\u001B[43m:\u001B[49m\u001B[43m \u001B[49m\u001B[38;5;124;43m\"\u001B[39;49m\u001B[38;5;124;43mfloat16\u001B[39;49m\u001B[38;5;124;43m\"\u001B[39;49m\u001B[43m,\u001B[49m\u001B[43m \u001B[49m\u001B[38;5;124;43m\"\u001B[39;49m\u001B[38;5;124;43mTMIN\u001B[39;49m\u001B[38;5;124;43m\"\u001B[39;49m\u001B[43m:\u001B[49m\u001B[43m \u001B[49m\u001B[38;5;124;43m\"\u001B[39;49m\u001B[38;5;124;43mfloat16\u001B[39;49m\u001B[38;5;124;43m\"\u001B[39;49m\u001B[43m,\u001B[49m\n\u001B[1;32m     11\u001B[0m \u001B[43m                                    \u001B[49m\u001B[38;5;124;43m\"\u001B[39;49m\u001B[38;5;124;43mUR\u001B[39;49m\u001B[38;5;124;43m\"\u001B[39;49m\u001B[43m:\u001B[49m\u001B[43m \u001B[49m\u001B[38;5;124;43m\"\u001B[39;49m\u001B[38;5;124;43mfloat16\u001B[39;49m\u001B[38;5;124;43m\"\u001B[39;49m\u001B[43m,\u001B[49m\u001B[43m \u001B[49m\u001B[38;5;124;43m\"\u001B[39;49m\u001B[38;5;124;43mPRESS\u001B[39;49m\u001B[38;5;124;43m\"\u001B[39;49m\u001B[43m:\u001B[49m\u001B[43m \u001B[49m\u001B[38;5;124;43m\"\u001B[39;49m\u001B[38;5;124;43mfloat16\u001B[39;49m\u001B[38;5;124;43m\"\u001B[39;49m\u001B[43m,\u001B[49m\u001B[43m \u001B[49m\u001B[38;5;124;43m\"\u001B[39;49m\u001B[38;5;124;43mDIFERTEMP\u001B[39;49m\u001B[38;5;124;43m\"\u001B[39;49m\u001B[43m:\u001B[49m\u001B[43m \u001B[49m\u001B[38;5;124;43m\"\u001B[39;49m\u001B[38;5;124;43mfloat16\u001B[39;49m\u001B[38;5;124;43m\"\u001B[39;49m\u001B[43m}\u001B[49m\u001B[43m)\u001B[49m\n",
      "File \u001B[0;32m~/miniconda3/envs/tg/lib/python3.10/site-packages/pandas/core/generic.py:6226\u001B[0m, in \u001B[0;36mNDFrame.astype\u001B[0;34m(self, dtype, copy, errors)\u001B[0m\n\u001B[1;32m   6224\u001B[0m             res_col \u001B[38;5;241m=\u001B[39m col\u001B[38;5;241m.\u001B[39mcopy() \u001B[38;5;28;01mif\u001B[39;00m copy \u001B[38;5;28;01melse\u001B[39;00m col\n\u001B[1;32m   6225\u001B[0m         \u001B[38;5;28;01melse\u001B[39;00m:\n\u001B[0;32m-> 6226\u001B[0m             res_col \u001B[38;5;241m=\u001B[39m \u001B[43mcol\u001B[49m\u001B[38;5;241;43m.\u001B[39;49m\u001B[43mastype\u001B[49m\u001B[43m(\u001B[49m\u001B[43mdtype\u001B[49m\u001B[38;5;241;43m=\u001B[39;49m\u001B[43mcdt\u001B[49m\u001B[43m,\u001B[49m\u001B[43m \u001B[49m\u001B[43mcopy\u001B[49m\u001B[38;5;241;43m=\u001B[39;49m\u001B[43mcopy\u001B[49m\u001B[43m,\u001B[49m\u001B[43m \u001B[49m\u001B[43merrors\u001B[49m\u001B[38;5;241;43m=\u001B[39;49m\u001B[43merrors\u001B[49m\u001B[43m)\u001B[49m\n\u001B[1;32m   6227\u001B[0m         results\u001B[38;5;241m.\u001B[39mappend(res_col)\n\u001B[1;32m   6229\u001B[0m \u001B[38;5;28;01melif\u001B[39;00m is_extension_array_dtype(dtype) \u001B[38;5;129;01mand\u001B[39;00m \u001B[38;5;28mself\u001B[39m\u001B[38;5;241m.\u001B[39mndim \u001B[38;5;241m>\u001B[39m \u001B[38;5;241m1\u001B[39m:\n\u001B[1;32m   6230\u001B[0m     \u001B[38;5;66;03m# GH 18099/22869: columnwise conversion to extension dtype\u001B[39;00m\n\u001B[1;32m   6231\u001B[0m     \u001B[38;5;66;03m# GH 24704: use iloc to handle duplicate column names\u001B[39;00m\n\u001B[1;32m   6232\u001B[0m     \u001B[38;5;66;03m# TODO(EA2D): special case not needed with 2D EAs\u001B[39;00m\n",
      "File \u001B[0;32m~/miniconda3/envs/tg/lib/python3.10/site-packages/pandas/core/generic.py:6240\u001B[0m, in \u001B[0;36mNDFrame.astype\u001B[0;34m(self, dtype, copy, errors)\u001B[0m\n\u001B[1;32m   6233\u001B[0m     results \u001B[38;5;241m=\u001B[39m [\n\u001B[1;32m   6234\u001B[0m         \u001B[38;5;28mself\u001B[39m\u001B[38;5;241m.\u001B[39miloc[:, i]\u001B[38;5;241m.\u001B[39mastype(dtype, copy\u001B[38;5;241m=\u001B[39mcopy)\n\u001B[1;32m   6235\u001B[0m         \u001B[38;5;28;01mfor\u001B[39;00m i \u001B[38;5;129;01min\u001B[39;00m \u001B[38;5;28mrange\u001B[39m(\u001B[38;5;28mlen\u001B[39m(\u001B[38;5;28mself\u001B[39m\u001B[38;5;241m.\u001B[39mcolumns))\n\u001B[1;32m   6236\u001B[0m     ]\n\u001B[1;32m   6238\u001B[0m \u001B[38;5;28;01melse\u001B[39;00m:\n\u001B[1;32m   6239\u001B[0m     \u001B[38;5;66;03m# else, only a single dtype is given\u001B[39;00m\n\u001B[0;32m-> 6240\u001B[0m     new_data \u001B[38;5;241m=\u001B[39m \u001B[38;5;28;43mself\u001B[39;49m\u001B[38;5;241;43m.\u001B[39;49m\u001B[43m_mgr\u001B[49m\u001B[38;5;241;43m.\u001B[39;49m\u001B[43mastype\u001B[49m\u001B[43m(\u001B[49m\u001B[43mdtype\u001B[49m\u001B[38;5;241;43m=\u001B[39;49m\u001B[43mdtype\u001B[49m\u001B[43m,\u001B[49m\u001B[43m \u001B[49m\u001B[43mcopy\u001B[49m\u001B[38;5;241;43m=\u001B[39;49m\u001B[43mcopy\u001B[49m\u001B[43m,\u001B[49m\u001B[43m \u001B[49m\u001B[43merrors\u001B[49m\u001B[38;5;241;43m=\u001B[39;49m\u001B[43merrors\u001B[49m\u001B[43m)\u001B[49m\n\u001B[1;32m   6241\u001B[0m     \u001B[38;5;28;01mreturn\u001B[39;00m \u001B[38;5;28mself\u001B[39m\u001B[38;5;241m.\u001B[39m_constructor(new_data)\u001B[38;5;241m.\u001B[39m__finalize__(\u001B[38;5;28mself\u001B[39m, method\u001B[38;5;241m=\u001B[39m\u001B[38;5;124m\"\u001B[39m\u001B[38;5;124mastype\u001B[39m\u001B[38;5;124m\"\u001B[39m)\n\u001B[1;32m   6243\u001B[0m \u001B[38;5;66;03m# GH 33113: handle empty frame or series\u001B[39;00m\n",
      "File \u001B[0;32m~/miniconda3/envs/tg/lib/python3.10/site-packages/pandas/core/internals/managers.py:445\u001B[0m, in \u001B[0;36mBaseBlockManager.astype\u001B[0;34m(self, dtype, copy, errors)\u001B[0m\n\u001B[1;32m    444\u001B[0m \u001B[38;5;28;01mdef\u001B[39;00m \u001B[38;5;21mastype\u001B[39m(\u001B[38;5;28mself\u001B[39m: T, dtype, copy: \u001B[38;5;28mbool\u001B[39m \u001B[38;5;241m=\u001B[39m \u001B[38;5;28;01mFalse\u001B[39;00m, errors: \u001B[38;5;28mstr\u001B[39m \u001B[38;5;241m=\u001B[39m \u001B[38;5;124m\"\u001B[39m\u001B[38;5;124mraise\u001B[39m\u001B[38;5;124m\"\u001B[39m) \u001B[38;5;241m-\u001B[39m\u001B[38;5;241m>\u001B[39m T:\n\u001B[0;32m--> 445\u001B[0m     \u001B[38;5;28;01mreturn\u001B[39;00m \u001B[38;5;28;43mself\u001B[39;49m\u001B[38;5;241;43m.\u001B[39;49m\u001B[43mapply\u001B[49m\u001B[43m(\u001B[49m\u001B[38;5;124;43m\"\u001B[39;49m\u001B[38;5;124;43mastype\u001B[39;49m\u001B[38;5;124;43m\"\u001B[39;49m\u001B[43m,\u001B[49m\u001B[43m \u001B[49m\u001B[43mdtype\u001B[49m\u001B[38;5;241;43m=\u001B[39;49m\u001B[43mdtype\u001B[49m\u001B[43m,\u001B[49m\u001B[43m \u001B[49m\u001B[43mcopy\u001B[49m\u001B[38;5;241;43m=\u001B[39;49m\u001B[43mcopy\u001B[49m\u001B[43m,\u001B[49m\u001B[43m \u001B[49m\u001B[43merrors\u001B[49m\u001B[38;5;241;43m=\u001B[39;49m\u001B[43merrors\u001B[49m\u001B[43m)\u001B[49m\n",
      "File \u001B[0;32m~/miniconda3/envs/tg/lib/python3.10/site-packages/pandas/core/internals/managers.py:347\u001B[0m, in \u001B[0;36mBaseBlockManager.apply\u001B[0;34m(self, f, align_keys, ignore_failures, **kwargs)\u001B[0m\n\u001B[1;32m    345\u001B[0m         applied \u001B[38;5;241m=\u001B[39m b\u001B[38;5;241m.\u001B[39mapply(f, \u001B[38;5;241m*\u001B[39m\u001B[38;5;241m*\u001B[39mkwargs)\n\u001B[1;32m    346\u001B[0m     \u001B[38;5;28;01melse\u001B[39;00m:\n\u001B[0;32m--> 347\u001B[0m         applied \u001B[38;5;241m=\u001B[39m \u001B[38;5;28;43mgetattr\u001B[39;49m\u001B[43m(\u001B[49m\u001B[43mb\u001B[49m\u001B[43m,\u001B[49m\u001B[43m \u001B[49m\u001B[43mf\u001B[49m\u001B[43m)\u001B[49m\u001B[43m(\u001B[49m\u001B[38;5;241;43m*\u001B[39;49m\u001B[38;5;241;43m*\u001B[39;49m\u001B[43mkwargs\u001B[49m\u001B[43m)\u001B[49m\n\u001B[1;32m    348\u001B[0m \u001B[38;5;28;01mexcept\u001B[39;00m (\u001B[38;5;167;01mTypeError\u001B[39;00m, \u001B[38;5;167;01mNotImplementedError\u001B[39;00m):\n\u001B[1;32m    349\u001B[0m     \u001B[38;5;28;01mif\u001B[39;00m \u001B[38;5;129;01mnot\u001B[39;00m ignore_failures:\n",
      "File \u001B[0;32m~/miniconda3/envs/tg/lib/python3.10/site-packages/pandas/core/internals/blocks.py:526\u001B[0m, in \u001B[0;36mBlock.astype\u001B[0;34m(self, dtype, copy, errors)\u001B[0m\n\u001B[1;32m    508\u001B[0m \u001B[38;5;124;03m\"\"\"\u001B[39;00m\n\u001B[1;32m    509\u001B[0m \u001B[38;5;124;03mCoerce to the new dtype.\u001B[39;00m\n\u001B[1;32m    510\u001B[0m \n\u001B[0;32m   (...)\u001B[0m\n\u001B[1;32m    522\u001B[0m \u001B[38;5;124;03mBlock\u001B[39;00m\n\u001B[1;32m    523\u001B[0m \u001B[38;5;124;03m\"\"\"\u001B[39;00m\n\u001B[1;32m    524\u001B[0m values \u001B[38;5;241m=\u001B[39m \u001B[38;5;28mself\u001B[39m\u001B[38;5;241m.\u001B[39mvalues\n\u001B[0;32m--> 526\u001B[0m new_values \u001B[38;5;241m=\u001B[39m \u001B[43mastype_array_safe\u001B[49m\u001B[43m(\u001B[49m\u001B[43mvalues\u001B[49m\u001B[43m,\u001B[49m\u001B[43m \u001B[49m\u001B[43mdtype\u001B[49m\u001B[43m,\u001B[49m\u001B[43m \u001B[49m\u001B[43mcopy\u001B[49m\u001B[38;5;241;43m=\u001B[39;49m\u001B[43mcopy\u001B[49m\u001B[43m,\u001B[49m\u001B[43m \u001B[49m\u001B[43merrors\u001B[49m\u001B[38;5;241;43m=\u001B[39;49m\u001B[43merrors\u001B[49m\u001B[43m)\u001B[49m\n\u001B[1;32m    528\u001B[0m new_values \u001B[38;5;241m=\u001B[39m maybe_coerce_values(new_values)\n\u001B[1;32m    529\u001B[0m newb \u001B[38;5;241m=\u001B[39m \u001B[38;5;28mself\u001B[39m\u001B[38;5;241m.\u001B[39mmake_block(new_values)\n",
      "File \u001B[0;32m~/miniconda3/envs/tg/lib/python3.10/site-packages/pandas/core/dtypes/astype.py:299\u001B[0m, in \u001B[0;36mastype_array_safe\u001B[0;34m(values, dtype, copy, errors)\u001B[0m\n\u001B[1;32m    296\u001B[0m     \u001B[38;5;28;01mreturn\u001B[39;00m values\u001B[38;5;241m.\u001B[39mcopy()\n\u001B[1;32m    298\u001B[0m \u001B[38;5;28;01mtry\u001B[39;00m:\n\u001B[0;32m--> 299\u001B[0m     new_values \u001B[38;5;241m=\u001B[39m \u001B[43mastype_array\u001B[49m\u001B[43m(\u001B[49m\u001B[43mvalues\u001B[49m\u001B[43m,\u001B[49m\u001B[43m \u001B[49m\u001B[43mdtype\u001B[49m\u001B[43m,\u001B[49m\u001B[43m \u001B[49m\u001B[43mcopy\u001B[49m\u001B[38;5;241;43m=\u001B[39;49m\u001B[43mcopy\u001B[49m\u001B[43m)\u001B[49m\n\u001B[1;32m    300\u001B[0m \u001B[38;5;28;01mexcept\u001B[39;00m (\u001B[38;5;167;01mValueError\u001B[39;00m, \u001B[38;5;167;01mTypeError\u001B[39;00m):\n\u001B[1;32m    301\u001B[0m     \u001B[38;5;66;03m# e.g. astype_nansafe can fail on object-dtype of strings\u001B[39;00m\n\u001B[1;32m    302\u001B[0m     \u001B[38;5;66;03m#  trying to convert to float\u001B[39;00m\n\u001B[1;32m    303\u001B[0m     \u001B[38;5;28;01mif\u001B[39;00m errors \u001B[38;5;241m==\u001B[39m \u001B[38;5;124m\"\u001B[39m\u001B[38;5;124mignore\u001B[39m\u001B[38;5;124m\"\u001B[39m:\n",
      "File \u001B[0;32m~/miniconda3/envs/tg/lib/python3.10/site-packages/pandas/core/dtypes/astype.py:230\u001B[0m, in \u001B[0;36mastype_array\u001B[0;34m(values, dtype, copy)\u001B[0m\n\u001B[1;32m    227\u001B[0m     values \u001B[38;5;241m=\u001B[39m values\u001B[38;5;241m.\u001B[39mastype(dtype, copy\u001B[38;5;241m=\u001B[39mcopy)\n\u001B[1;32m    229\u001B[0m \u001B[38;5;28;01melse\u001B[39;00m:\n\u001B[0;32m--> 230\u001B[0m     values \u001B[38;5;241m=\u001B[39m \u001B[43mastype_nansafe\u001B[49m\u001B[43m(\u001B[49m\u001B[43mvalues\u001B[49m\u001B[43m,\u001B[49m\u001B[43m \u001B[49m\u001B[43mdtype\u001B[49m\u001B[43m,\u001B[49m\u001B[43m \u001B[49m\u001B[43mcopy\u001B[49m\u001B[38;5;241;43m=\u001B[39;49m\u001B[43mcopy\u001B[49m\u001B[43m)\u001B[49m\n\u001B[1;32m    232\u001B[0m \u001B[38;5;66;03m# in pandas we don't store numpy str dtypes, so convert to object\u001B[39;00m\n\u001B[1;32m    233\u001B[0m \u001B[38;5;28;01mif\u001B[39;00m \u001B[38;5;28misinstance\u001B[39m(dtype, np\u001B[38;5;241m.\u001B[39mdtype) \u001B[38;5;129;01mand\u001B[39;00m \u001B[38;5;28missubclass\u001B[39m(values\u001B[38;5;241m.\u001B[39mdtype\u001B[38;5;241m.\u001B[39mtype, \u001B[38;5;28mstr\u001B[39m):\n",
      "File \u001B[0;32m~/miniconda3/envs/tg/lib/python3.10/site-packages/pandas/core/dtypes/astype.py:140\u001B[0m, in \u001B[0;36mastype_nansafe\u001B[0;34m(arr, dtype, copy, skipna)\u001B[0m\n\u001B[1;32m    137\u001B[0m     \u001B[38;5;28;01mraise\u001B[39;00m \u001B[38;5;167;01mTypeError\u001B[39;00m(\u001B[38;5;124mf\u001B[39m\u001B[38;5;124m\"\u001B[39m\u001B[38;5;124mcannot astype a timedelta from [\u001B[39m\u001B[38;5;132;01m{\u001B[39;00marr\u001B[38;5;241m.\u001B[39mdtype\u001B[38;5;132;01m}\u001B[39;00m\u001B[38;5;124m] to [\u001B[39m\u001B[38;5;132;01m{\u001B[39;00mdtype\u001B[38;5;132;01m}\u001B[39;00m\u001B[38;5;124m]\u001B[39m\u001B[38;5;124m\"\u001B[39m)\n\u001B[1;32m    139\u001B[0m \u001B[38;5;28;01melif\u001B[39;00m np\u001B[38;5;241m.\u001B[39missubdtype(arr\u001B[38;5;241m.\u001B[39mdtype, np\u001B[38;5;241m.\u001B[39mfloating) \u001B[38;5;129;01mand\u001B[39;00m is_integer_dtype(dtype):\n\u001B[0;32m--> 140\u001B[0m     \u001B[38;5;28;01mreturn\u001B[39;00m \u001B[43m_astype_float_to_int_nansafe\u001B[49m\u001B[43m(\u001B[49m\u001B[43marr\u001B[49m\u001B[43m,\u001B[49m\u001B[43m \u001B[49m\u001B[43mdtype\u001B[49m\u001B[43m,\u001B[49m\u001B[43m \u001B[49m\u001B[43mcopy\u001B[49m\u001B[43m)\u001B[49m\n\u001B[1;32m    142\u001B[0m \u001B[38;5;28;01melif\u001B[39;00m is_object_dtype(arr\u001B[38;5;241m.\u001B[39mdtype):\n\u001B[1;32m    143\u001B[0m \n\u001B[1;32m    144\u001B[0m     \u001B[38;5;66;03m# if we have a datetime/timedelta array of objects\u001B[39;00m\n\u001B[1;32m    145\u001B[0m     \u001B[38;5;66;03m# then coerce to a proper dtype and recall astype_nansafe\u001B[39;00m\n\u001B[1;32m    147\u001B[0m     \u001B[38;5;28;01mif\u001B[39;00m is_datetime64_dtype(dtype):\n",
      "File \u001B[0;32m~/miniconda3/envs/tg/lib/python3.10/site-packages/pandas/core/dtypes/astype.py:182\u001B[0m, in \u001B[0;36m_astype_float_to_int_nansafe\u001B[0;34m(values, dtype, copy)\u001B[0m\n\u001B[1;32m    178\u001B[0m \u001B[38;5;124;03m\"\"\"\u001B[39;00m\n\u001B[1;32m    179\u001B[0m \u001B[38;5;124;03mastype with a check preventing converting NaN to an meaningless integer value.\u001B[39;00m\n\u001B[1;32m    180\u001B[0m \u001B[38;5;124;03m\"\"\"\u001B[39;00m\n\u001B[1;32m    181\u001B[0m \u001B[38;5;28;01mif\u001B[39;00m \u001B[38;5;129;01mnot\u001B[39;00m np\u001B[38;5;241m.\u001B[39misfinite(values)\u001B[38;5;241m.\u001B[39mall():\n\u001B[0;32m--> 182\u001B[0m     \u001B[38;5;28;01mraise\u001B[39;00m IntCastingNaNError(\n\u001B[1;32m    183\u001B[0m         \u001B[38;5;124m\"\u001B[39m\u001B[38;5;124mCannot convert non-finite values (NA or inf) to integer\u001B[39m\u001B[38;5;124m\"\u001B[39m\n\u001B[1;32m    184\u001B[0m     )\n\u001B[1;32m    185\u001B[0m \u001B[38;5;28;01mif\u001B[39;00m dtype\u001B[38;5;241m.\u001B[39mkind \u001B[38;5;241m==\u001B[39m \u001B[38;5;124m\"\u001B[39m\u001B[38;5;124mu\u001B[39m\u001B[38;5;124m\"\u001B[39m:\n\u001B[1;32m    186\u001B[0m     \u001B[38;5;66;03m# GH#45151\u001B[39;00m\n\u001B[1;32m    187\u001B[0m     \u001B[38;5;28;01mif\u001B[39;00m \u001B[38;5;129;01mnot\u001B[39;00m (values \u001B[38;5;241m>\u001B[39m\u001B[38;5;241m=\u001B[39m \u001B[38;5;241m0\u001B[39m)\u001B[38;5;241m.\u001B[39mall():\n",
      "\u001B[0;31mIntCastingNaNError\u001B[0m: Cannot convert non-finite values (NA or inf) to integer"
     ]
    }
   ],
   "source": [
    "df_raw_clean = df_raw\n",
    "\n",
    "df_raw_clean = df_raw_clean.astype({\"LAG0\": \"int16\", \"LAG1\": \"int16\", \"LAG2\": \"int16\", \"LAG3\": \"int16\",\n",
    "                                    \"LAG4\": \"int16\", \"LAG5\": \"int16\", \"LAG6\": \"int16\",\n",
    "                                    \"LAG7\": \"int16\", \"L0AVC\": \"int16\", \"L1AVC\": \"int16\",\n",
    "                                    \"L2AVC\": \"int16\", \"L3AVC\": \"int16\", \"L4AVC\": \"int16\",\n",
    "                                    \"L5AVC\": \"int16\", \"L6AVC\": \"int16\", \"L7AVC\": \"int16\",\n",
    "                                    \"co_ppb\": \"float16\", \"pm25_ugm3\": \"float16\", \"so2_ugm3\": \"float16\",\n",
    "                                    \"NO2_NOVO\": \"float16\", \"OZ_MICRO\": \"float16\", \"TMAX\": \"float16\",\n",
    "                                    \"T03\": \"float16\", \"T05\": \"float16\", \"TMIN\": \"float16\",\n",
    "                                    \"UR\": \"float16\", \"PRESS\": \"float16\", \"DIFERTEMP\": \"float16\"})"
   ],
   "metadata": {
    "collapsed": false
   }
  },
  {
   "cell_type": "code",
   "execution_count": 9,
   "outputs": [
    {
     "data": {
      "text/plain": "DATA         datetime64[ns]\nco_ppb              float64\npm25_ugm3           float64\nso2_ugm3            float64\nNO2_NOVO            float64\nOZ_MICRO            float64\nTMAX                float64\nT03                 float64\nT05                 float64\nTMIN                float64\nUR                  float64\nPRESS               float64\nDS                    int64\nLD                    int64\nLAG0                  int64\nLAG1                float64\nLAG2                float64\nLAG3                float64\nLAG4                float64\nLAG5                float64\nLAG6                float64\nLAG7                float64\nL0AVC                 int64\nL1AVC               float64\nL2AVC               float64\nL3AVC               float64\nL4AVC               float64\nL5AVC               float64\nL6AVC                 int64\nL7AVC               float64\nDIFERTEMP           float64\nVAR00001              int64\nTAPMIN              float64\nTAPMAX              float64\ndtype: object"
     },
     "execution_count": 9,
     "metadata": {},
     "output_type": "execute_result"
    }
   ],
   "source": [
    "df_raw_clean.dtypes"
   ],
   "metadata": {
    "collapsed": false
   }
  },
  {
   "cell_type": "code",
   "execution_count": 15,
   "outputs": [
    {
     "data": {
      "text/plain": "           DATA       PRESS\n0    2016-01-01  983.029167\n1    2016-01-02  983.408333\n2    2016-01-03  983.854167\n3    2016-01-04  982.791667\n4    2016-01-05  984.125000\n...         ...         ...\n1091 2018-12-27  981.450000\n1092 2018-12-28  982.395833\n1093 2018-12-29  982.372727\n1094 2018-12-30         NaN\n1095 2018-12-31  983.391667\n\n[1096 rows x 2 columns]",
      "text/html": "<div>\n<style scoped>\n    .dataframe tbody tr th:only-of-type {\n        vertical-align: middle;\n    }\n\n    .dataframe tbody tr th {\n        vertical-align: top;\n    }\n\n    .dataframe thead th {\n        text-align: right;\n    }\n</style>\n<table border=\"1\" class=\"dataframe\">\n  <thead>\n    <tr style=\"text-align: right;\">\n      <th></th>\n      <th>DATA</th>\n      <th>PRESS</th>\n    </tr>\n  </thead>\n  <tbody>\n    <tr>\n      <th>0</th>\n      <td>2016-01-01</td>\n      <td>983.029167</td>\n    </tr>\n    <tr>\n      <th>1</th>\n      <td>2016-01-02</td>\n      <td>983.408333</td>\n    </tr>\n    <tr>\n      <th>2</th>\n      <td>2016-01-03</td>\n      <td>983.854167</td>\n    </tr>\n    <tr>\n      <th>3</th>\n      <td>2016-01-04</td>\n      <td>982.791667</td>\n    </tr>\n    <tr>\n      <th>4</th>\n      <td>2016-01-05</td>\n      <td>984.125000</td>\n    </tr>\n    <tr>\n      <th>...</th>\n      <td>...</td>\n      <td>...</td>\n    </tr>\n    <tr>\n      <th>1091</th>\n      <td>2018-12-27</td>\n      <td>981.450000</td>\n    </tr>\n    <tr>\n      <th>1092</th>\n      <td>2018-12-28</td>\n      <td>982.395833</td>\n    </tr>\n    <tr>\n      <th>1093</th>\n      <td>2018-12-29</td>\n      <td>982.372727</td>\n    </tr>\n    <tr>\n      <th>1094</th>\n      <td>2018-12-30</td>\n      <td>NaN</td>\n    </tr>\n    <tr>\n      <th>1095</th>\n      <td>2018-12-31</td>\n      <td>983.391667</td>\n    </tr>\n  </tbody>\n</table>\n<p>1096 rows × 2 columns</p>\n</div>"
     },
     "execution_count": 15,
     "metadata": {},
     "output_type": "execute_result"
    }
   ],
   "source": [
    "df_raw_clean[[\"DATA\", \"PRESS\"]]"
   ],
   "metadata": {
    "collapsed": false
   }
  },
  {
   "cell_type": "code",
   "execution_count": 11,
   "outputs": [],
   "source": [
    "df_raw_clean.to_parquet(\"../data/processed/avc.parquet\")"
   ],
   "metadata": {
    "collapsed": false
   }
  },
  {
   "cell_type": "code",
   "execution_count": 11,
   "outputs": [],
   "source": [],
   "metadata": {
    "collapsed": false
   }
  }
 ],
 "metadata": {
  "kernelspec": {
   "display_name": "Python 3",
   "language": "python",
   "name": "python3"
  },
  "language_info": {
   "codemirror_mode": {
    "name": "ipython",
    "version": 2
   },
   "file_extension": ".py",
   "mimetype": "text/x-python",
   "name": "python",
   "nbconvert_exporter": "python",
   "pygments_lexer": "ipython2",
   "version": "2.7.6"
  }
 },
 "nbformat": 4,
 "nbformat_minor": 0
}
