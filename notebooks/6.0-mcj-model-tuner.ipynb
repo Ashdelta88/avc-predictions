{
 "cells": [
  {
   "attachments": {},
   "cell_type": "markdown",
   "metadata": {},
   "source": [
    "### LSTM model tuner\n",
    "\n",
    "* Define functions\n",
    "* try to find the best hyperparameters\n",
    "* Train the model"
   ]
  },
  {
   "attachments": {},
   "cell_type": "markdown",
   "metadata": {},
   "source": [
    "Importing libraries"
   ]
  },
  {
   "cell_type": "code",
   "execution_count": 139,
   "metadata": {},
   "outputs": [],
   "source": [
    "import pandas as pd\n",
    "from matplotlib import pyplot\n",
    "\n",
    "import tensorflow as tf\n",
    "from sklearn.preprocessing import MinMaxScaler\n",
    "from sklearn.model_selection import train_test_split\n",
    "from sklearn.metrics import mean_squared_error\n",
    "from keras.models import Sequential\n",
    "from keras.layers import Dense\n",
    "from keras.layers import LSTM, Input\n",
    "from keras.callbacks import TensorBoard\n",
    "from keras.layers import Dropout\n",
    "import keras_tuner as kt\n",
    "from keras_tuner.tuners import RandomSearch\n",
    "from keras_tuner.engine.hyperparameters import HyperParameters\n",
    "\n",
    "from math import sqrt\n",
    "from numpy import concatenate"
   ]
  },
  {
   "attachments": {},
   "cell_type": "markdown",
   "metadata": {},
   "source": [
    "Define functions"
   ]
  },
  {
   "cell_type": "code",
   "execution_count": 140,
   "metadata": {},
   "outputs": [],
   "source": [
    "def series_to_supervised(data, n_in=1, n_out=1, dropnan=True):\n",
    "    n_vars = 1 if type(data) is list else data.shape[1]\n",
    "    df = pd.DataFrame(data)\n",
    "    cols, names = list(), list()\n",
    "    # input sequence (t-n, ... t-1)\n",
    "    for i in range(n_in, 0, -1):\n",
    "        cols.append(df.shift(i))\n",
    "        names += [('var%d(t-%d)' % (j+1, i)) for j in range(n_vars)]\n",
    "    # forecast sequence (t, t+1, ... t+n)\n",
    "    for i in range(0, n_out):\n",
    "        cols.append(df.shift(-i))\n",
    "        if i == 0:\n",
    "            names += [('var%d(t)' % (j+1)) for j in range(n_vars)]\n",
    "        else:\n",
    "            names += [('var%d(t+%d)' % (j+1, i)) for j in range(n_vars)]\n",
    "    # put it all together\n",
    "    agg = pd.concat(cols, axis=1)\n",
    "    agg.columns = names\n",
    "    # drop rows with NaN values\n",
    "    if dropnan:\n",
    "        agg.dropna(inplace=True)\n",
    "    return agg"
   ]
  },
  {
   "cell_type": "code",
   "execution_count": 141,
   "metadata": {},
   "outputs": [],
   "source": [
    "tf.compat.v1.keras.layers.CuDNNLSTM\n",
    "\n",
    "def lstm_model_builder(hp):\n",
    "\n",
    "    model = Sequential()\n",
    "\n",
    "    # model.add(Input(\n",
    "    #     shape=(train_x.shape[1],train_x.shape[2])\n",
    "    # ))\n",
    "    \n",
    "    model.add(LSTM(hp.Int('input_unit',\n",
    "                        min_value=32,\n",
    "                        max_value=512,\n",
    "                        step=32), \n",
    "                        return_sequences=True, \n",
    "                        input_shape=(train_x.shape[1],train_x.shape[2])\n",
    "                        ))\n",
    "\n",
    "    for i in range(hp.Int('n_layers', 1, 3)):\n",
    "\n",
    "        model.add(LSTM(hp.Int(f'lstm_{i}_units',min_value=32,max_value=512,step=32),return_sequences=True))\n",
    "        model.add(LSTM(hp.Int('layer_2_neurons',min_value=32,max_value=512,step=32),return_sequences=True))\n",
    "        model.add(Dropout(hp.Float('Dropout_rate',min_value=0,max_value=0.5,step=0.1)))\n",
    "        model.add(Dense(train_y.shape[1], activation=hp.Choice('dense_activation',values=['relu', 'sigmoid'],default='relu')))\n",
    "        model.compile(loss='mean_squared_error', optimizer='adam',metrics = ['mse'])\n",
    "        \n",
    "    return model"
   ]
  },
  {
   "attachments": {},
   "cell_type": "markdown",
   "metadata": {},
   "source": [
    "Load data"
   ]
  },
  {
   "cell_type": "code",
   "execution_count": 142,
   "metadata": {},
   "outputs": [
    {
     "data": {
      "text/html": [
       "<div>\n",
       "<style scoped>\n",
       "    .dataframe tbody tr th:only-of-type {\n",
       "        vertical-align: middle;\n",
       "    }\n",
       "\n",
       "    .dataframe tbody tr th {\n",
       "        vertical-align: top;\n",
       "    }\n",
       "\n",
       "    .dataframe thead th {\n",
       "        text-align: right;\n",
       "    }\n",
       "</style>\n",
       "<table border=\"1\" class=\"dataframe\">\n",
       "  <thead>\n",
       "    <tr style=\"text-align: right;\">\n",
       "      <th></th>\n",
       "      <th>date</th>\n",
       "      <th>co_ppb</th>\n",
       "      <th>o3_ppb</th>\n",
       "      <th>pm25_ugm3</th>\n",
       "      <th>so2_ugm3</th>\n",
       "      <th>temperatura_c</th>\n",
       "      <th>umidade_relativa_percentual</th>\n",
       "      <th>precipitacao_mmdia</th>\n",
       "      <th>focos_queimada</th>\n",
       "      <th>respiratory</th>\n",
       "      <th>avc</th>\n",
       "    </tr>\n",
       "  </thead>\n",
       "  <tbody>\n",
       "    <tr>\n",
       "      <th>0</th>\n",
       "      <td>2013-01-01</td>\n",
       "      <td>135.40</td>\n",
       "      <td>11.125</td>\n",
       "      <td>8.175</td>\n",
       "      <td>0.875</td>\n",
       "      <td>26.450</td>\n",
       "      <td>81.75</td>\n",
       "      <td>2.0</td>\n",
       "      <td>0.0</td>\n",
       "      <td>6.0</td>\n",
       "      <td>1.0</td>\n",
       "    </tr>\n",
       "    <tr>\n",
       "      <th>1</th>\n",
       "      <td>2013-01-02</td>\n",
       "      <td>155.05</td>\n",
       "      <td>10.925</td>\n",
       "      <td>11.675</td>\n",
       "      <td>1.000</td>\n",
       "      <td>26.400</td>\n",
       "      <td>82.00</td>\n",
       "      <td>2.0</td>\n",
       "      <td>0.0</td>\n",
       "      <td>8.0</td>\n",
       "      <td>0.0</td>\n",
       "    </tr>\n",
       "    <tr>\n",
       "      <th>2</th>\n",
       "      <td>2013-01-03</td>\n",
       "      <td>137.40</td>\n",
       "      <td>12.225</td>\n",
       "      <td>8.800</td>\n",
       "      <td>0.825</td>\n",
       "      <td>27.400</td>\n",
       "      <td>81.25</td>\n",
       "      <td>0.0</td>\n",
       "      <td>0.0</td>\n",
       "      <td>12.0</td>\n",
       "      <td>1.0</td>\n",
       "    </tr>\n",
       "    <tr>\n",
       "      <th>3</th>\n",
       "      <td>2013-01-04</td>\n",
       "      <td>128.30</td>\n",
       "      <td>13.750</td>\n",
       "      <td>11.650</td>\n",
       "      <td>0.925</td>\n",
       "      <td>27.750</td>\n",
       "      <td>76.25</td>\n",
       "      <td>1.0</td>\n",
       "      <td>0.0</td>\n",
       "      <td>9.0</td>\n",
       "      <td>0.0</td>\n",
       "    </tr>\n",
       "    <tr>\n",
       "      <th>4</th>\n",
       "      <td>2013-01-05</td>\n",
       "      <td>128.25</td>\n",
       "      <td>10.950</td>\n",
       "      <td>7.800</td>\n",
       "      <td>1.075</td>\n",
       "      <td>26.625</td>\n",
       "      <td>84.75</td>\n",
       "      <td>9.0</td>\n",
       "      <td>0.0</td>\n",
       "      <td>10.0</td>\n",
       "      <td>1.0</td>\n",
       "    </tr>\n",
       "  </tbody>\n",
       "</table>\n",
       "</div>"
      ],
      "text/plain": [
       "        date  co_ppb  o3_ppb  pm25_ugm3  so2_ugm3  temperatura_c  \\\n",
       "0 2013-01-01  135.40  11.125      8.175     0.875         26.450   \n",
       "1 2013-01-02  155.05  10.925     11.675     1.000         26.400   \n",
       "2 2013-01-03  137.40  12.225      8.800     0.825         27.400   \n",
       "3 2013-01-04  128.30  13.750     11.650     0.925         27.750   \n",
       "4 2013-01-05  128.25  10.950      7.800     1.075         26.625   \n",
       "\n",
       "   umidade_relativa_percentual  precipitacao_mmdia  focos_queimada  \\\n",
       "0                        81.75                 2.0             0.0   \n",
       "1                        82.00                 2.0             0.0   \n",
       "2                        81.25                 0.0             0.0   \n",
       "3                        76.25                 1.0             0.0   \n",
       "4                        84.75                 9.0             0.0   \n",
       "\n",
       "   respiratory  avc  \n",
       "0          6.0  1.0  \n",
       "1          8.0  0.0  \n",
       "2         12.0  1.0  \n",
       "3          9.0  0.0  \n",
       "4         10.0  1.0  "
      ]
     },
     "execution_count": 142,
     "metadata": {},
     "output_type": "execute_result"
    }
   ],
   "source": [
    "df = pd.read_parquet(\"../data/processed/new-avc.parquert\")\n",
    "df.head()"
   ]
  },
  {
   "attachments": {},
   "cell_type": "markdown",
   "metadata": {},
   "source": [
    "Normalize features"
   ]
  },
  {
   "cell_type": "code",
   "execution_count": 143,
   "metadata": {},
   "outputs": [],
   "source": [
    "df = df.set_index(\"date\")"
   ]
  },
  {
   "cell_type": "code",
   "execution_count": 144,
   "metadata": {},
   "outputs": [],
   "source": [
    "df = df.drop(columns=[\"avc\"])"
   ]
  },
  {
   "cell_type": "code",
   "execution_count": 145,
   "metadata": {},
   "outputs": [],
   "source": [
    "values = df.values"
   ]
  },
  {
   "cell_type": "code",
   "execution_count": 146,
   "metadata": {},
   "outputs": [],
   "source": [
    "scaler = MinMaxScaler(feature_range=(0, 1))\n",
    "scaled = scaler.fit_transform(values)"
   ]
  },
  {
   "attachments": {},
   "cell_type": "markdown",
   "metadata": {},
   "source": [
    "Apply series_to_supervised"
   ]
  },
  {
   "cell_type": "code",
   "execution_count": 147,
   "metadata": {},
   "outputs": [],
   "source": [
    "n_lags = 3"
   ]
  },
  {
   "cell_type": "code",
   "execution_count": 148,
   "metadata": {},
   "outputs": [],
   "source": [
    "df_sl = series_to_supervised(scaled, n_lags, 1)"
   ]
  },
  {
   "attachments": {},
   "cell_type": "markdown",
   "metadata": {},
   "source": [
    "Drop columns I don't want to predict"
   ]
  },
  {
   "cell_type": "code",
   "execution_count": 149,
   "metadata": {},
   "outputs": [],
   "source": [
    "df_sl.drop(df_sl.columns[[27, 28, 29, 30, 31, 32, 33, 34]], axis=1, inplace=True)"
   ]
  },
  {
   "attachments": {},
   "cell_type": "markdown",
   "metadata": {},
   "source": [
    "Define and fit model"
   ]
  },
  {
   "attachments": {},
   "cell_type": "markdown",
   "metadata": {},
   "source": [
    "Split into train and test sets"
   ]
  },
  {
   "cell_type": "code",
   "execution_count": 150,
   "metadata": {},
   "outputs": [],
   "source": [
    "values = df_sl.values\n",
    "train_set, test_set = train_test_split(\n",
    "    df_sl, test_size=0.2, shuffle=False\n",
    ")"
   ]
  },
  {
   "cell_type": "code",
   "execution_count": 151,
   "metadata": {},
   "outputs": [],
   "source": [
    "train_X, train_Y = train_set.drop(\"var9(t)\", axis=1), train_set.drop(train_set.columns[:27], axis=1)\n",
    "test_X, test_Y = test_set.drop(\"var9(t)\", axis=1), test_set.drop(test_set.columns[:27], axis=1)"
   ]
  },
  {
   "attachments": {},
   "cell_type": "markdown",
   "metadata": {},
   "source": [
    "Reshape input to be 3D [samples, timesteps, features]"
   ]
  },
  {
   "cell_type": "code",
   "execution_count": 152,
   "metadata": {},
   "outputs": [],
   "source": [
    "train_x, test_x = train_X.values, test_X.values\n",
    "train_y, test_y = train_Y.values, test_Y.values"
   ]
  },
  {
   "cell_type": "code",
   "execution_count": 153,
   "metadata": {},
   "outputs": [],
   "source": [
    "train_x = train_x.reshape((train_x.shape[0], 1, train_x.shape[1]))\n",
    "test_x = test_x.reshape((test_x.shape[0], 1, test_x.shape[1]))"
   ]
  },
  {
   "cell_type": "code",
   "execution_count": 154,
   "metadata": {},
   "outputs": [],
   "source": [
    "tuner= RandomSearch(\n",
    "        lstm_model_builder,\n",
    "        objective='mse',\n",
    "        max_trials=2,\n",
    "        executions_per_trial=1\n",
    "        )"
   ]
  },
  {
   "cell_type": "code",
   "execution_count": 155,
   "metadata": {},
   "outputs": [
    {
     "name": "stdout",
     "output_type": "stream",
     "text": [
      "Trial 2 Complete [00h 00m 12s]\n",
      "mse: 0.017918679863214493\n",
      "\n",
      "Best mse So Far: 0.017918679863214493\n",
      "Total elapsed time: 00h 00m 37s\n",
      "INFO:tensorflow:Oracle triggered exit\n"
     ]
    }
   ],
   "source": [
    "tuner.search(\n",
    "        x=train_x,\n",
    "        y=train_y,\n",
    "        epochs=20,\n",
    "        batch_size=128,\n",
    "        validation_data=(test_x,test_y),\n",
    ")"
   ]
  },
  {
   "cell_type": "code",
   "execution_count": 156,
   "metadata": {},
   "outputs": [],
   "source": [
    "best_model = tuner.get_best_models(num_models=1)[0]"
   ]
  },
  {
   "cell_type": "code",
   "execution_count": 157,
   "metadata": {},
   "outputs": [
    {
     "name": "stdout",
     "output_type": "stream",
     "text": [
      "14/14 [==============================] - 1s 6ms/step\n"
     ]
    }
   ],
   "source": [
    "yhat = best_model.predict(test_x)\n",
    "test_x = test_x.reshape((test_x.shape[0], test_x.shape[2]))\n",
    "yhat = yhat.reshape((yhat.shape[0], yhat.shape[1]))"
   ]
  },
  {
   "cell_type": "code",
   "execution_count": 158,
   "metadata": {},
   "outputs": [
    {
     "name": "stdout",
     "output_type": "stream",
     "text": [
      "Test RMSE: 3.628\n"
     ]
    }
   ],
   "source": [
    "# invert scaling for forecast\n",
    "inv_yhat = concatenate((test_x[:, -8:], yhat), axis=1)\n",
    "inv_yhat = scaler.inverse_transform(inv_yhat)\n",
    "inv_yhat = inv_yhat[:,8]\n",
    "# invert scaling for actual\n",
    "test_y = test_y.reshape((len(test_y), 1))\n",
    "inv_y = concatenate((test_x[:, -8:], test_y), axis=1)\n",
    "inv_y = scaler.inverse_transform(inv_y)\n",
    "inv_y = inv_y[:,8]\n",
    "# calculate RMSE\n",
    "rmse = sqrt(mean_squared_error(inv_y, inv_yhat))\n",
    "print('Test RMSE: %.3f' % rmse)"
   ]
  },
  {
   "cell_type": "code",
   "execution_count": 159,
   "metadata": {},
   "outputs": [
    {
     "data": {
      "text/html": [
       "<div>\n",
       "<style scoped>\n",
       "    .dataframe tbody tr th:only-of-type {\n",
       "        vertical-align: middle;\n",
       "    }\n",
       "\n",
       "    .dataframe tbody tr th {\n",
       "        vertical-align: top;\n",
       "    }\n",
       "\n",
       "    .dataframe thead th {\n",
       "        text-align: right;\n",
       "    }\n",
       "</style>\n",
       "<table border=\"1\" class=\"dataframe\">\n",
       "  <thead>\n",
       "    <tr style=\"text-align: right;\">\n",
       "      <th></th>\n",
       "      <th>0</th>\n",
       "      <th>1</th>\n",
       "      <th>2</th>\n",
       "      <th>3</th>\n",
       "      <th>4</th>\n",
       "      <th>5</th>\n",
       "      <th>6</th>\n",
       "      <th>7</th>\n",
       "    </tr>\n",
       "  </thead>\n",
       "  <tbody>\n",
       "    <tr>\n",
       "      <th>0</th>\n",
       "      <td>0.334824</td>\n",
       "      <td>0.089580</td>\n",
       "      <td>0.148235</td>\n",
       "      <td>0.991239</td>\n",
       "      <td>0.753788</td>\n",
       "      <td>0.000000</td>\n",
       "      <td>0.00</td>\n",
       "      <td>0.285714</td>\n",
       "    </tr>\n",
       "    <tr>\n",
       "      <th>1</th>\n",
       "      <td>0.260308</td>\n",
       "      <td>0.113697</td>\n",
       "      <td>0.188235</td>\n",
       "      <td>0.750939</td>\n",
       "      <td>0.882576</td>\n",
       "      <td>0.160000</td>\n",
       "      <td>0.00</td>\n",
       "      <td>0.250000</td>\n",
       "    </tr>\n",
       "    <tr>\n",
       "      <th>2</th>\n",
       "      <td>0.281669</td>\n",
       "      <td>0.090840</td>\n",
       "      <td>0.221176</td>\n",
       "      <td>0.717146</td>\n",
       "      <td>0.928030</td>\n",
       "      <td>0.000000</td>\n",
       "      <td>0.08</td>\n",
       "      <td>0.142857</td>\n",
       "    </tr>\n",
       "    <tr>\n",
       "      <th>3</th>\n",
       "      <td>0.358172</td>\n",
       "      <td>0.099160</td>\n",
       "      <td>0.167059</td>\n",
       "      <td>0.619524</td>\n",
       "      <td>0.954545</td>\n",
       "      <td>0.320000</td>\n",
       "      <td>0.00</td>\n",
       "      <td>0.178571</td>\n",
       "    </tr>\n",
       "    <tr>\n",
       "      <th>4</th>\n",
       "      <td>0.314953</td>\n",
       "      <td>0.090168</td>\n",
       "      <td>0.160000</td>\n",
       "      <td>0.622028</td>\n",
       "      <td>0.909091</td>\n",
       "      <td>0.000000</td>\n",
       "      <td>0.00</td>\n",
       "      <td>0.214286</td>\n",
       "    </tr>\n",
       "    <tr>\n",
       "      <th>...</th>\n",
       "      <td>...</td>\n",
       "      <td>...</td>\n",
       "      <td>...</td>\n",
       "      <td>...</td>\n",
       "      <td>...</td>\n",
       "      <td>...</td>\n",
       "      <td>...</td>\n",
       "      <td>...</td>\n",
       "    </tr>\n",
       "    <tr>\n",
       "      <th>433</th>\n",
       "      <td>0.109290</td>\n",
       "      <td>0.064034</td>\n",
       "      <td>0.120000</td>\n",
       "      <td>0.694618</td>\n",
       "      <td>0.969697</td>\n",
       "      <td>0.000000</td>\n",
       "      <td>0.00</td>\n",
       "      <td>0.000000</td>\n",
       "    </tr>\n",
       "    <tr>\n",
       "      <th>434</th>\n",
       "      <td>0.098361</td>\n",
       "      <td>0.050756</td>\n",
       "      <td>0.115294</td>\n",
       "      <td>0.664581</td>\n",
       "      <td>0.969697</td>\n",
       "      <td>0.000000</td>\n",
       "      <td>0.00</td>\n",
       "      <td>0.000000</td>\n",
       "    </tr>\n",
       "    <tr>\n",
       "      <th>435</th>\n",
       "      <td>0.133135</td>\n",
       "      <td>0.038992</td>\n",
       "      <td>0.040000</td>\n",
       "      <td>0.664581</td>\n",
       "      <td>0.965909</td>\n",
       "      <td>0.373333</td>\n",
       "      <td>0.00</td>\n",
       "      <td>0.000000</td>\n",
       "    </tr>\n",
       "    <tr>\n",
       "      <th>436</th>\n",
       "      <td>0.135122</td>\n",
       "      <td>0.038655</td>\n",
       "      <td>0.030588</td>\n",
       "      <td>0.649562</td>\n",
       "      <td>0.965909</td>\n",
       "      <td>0.026667</td>\n",
       "      <td>0.00</td>\n",
       "      <td>0.000000</td>\n",
       "    </tr>\n",
       "    <tr>\n",
       "      <th>437</th>\n",
       "      <td>0.175857</td>\n",
       "      <td>0.029916</td>\n",
       "      <td>0.030588</td>\n",
       "      <td>0.643304</td>\n",
       "      <td>0.954545</td>\n",
       "      <td>0.053333</td>\n",
       "      <td>0.00</td>\n",
       "      <td>0.000000</td>\n",
       "    </tr>\n",
       "  </tbody>\n",
       "</table>\n",
       "<p>438 rows × 8 columns</p>\n",
       "</div>"
      ],
      "text/plain": [
       "            0         1         2         3         4         5     6  \\\n",
       "0    0.334824  0.089580  0.148235  0.991239  0.753788  0.000000  0.00   \n",
       "1    0.260308  0.113697  0.188235  0.750939  0.882576  0.160000  0.00   \n",
       "2    0.281669  0.090840  0.221176  0.717146  0.928030  0.000000  0.08   \n",
       "3    0.358172  0.099160  0.167059  0.619524  0.954545  0.320000  0.00   \n",
       "4    0.314953  0.090168  0.160000  0.622028  0.909091  0.000000  0.00   \n",
       "..        ...       ...       ...       ...       ...       ...   ...   \n",
       "433  0.109290  0.064034  0.120000  0.694618  0.969697  0.000000  0.00   \n",
       "434  0.098361  0.050756  0.115294  0.664581  0.969697  0.000000  0.00   \n",
       "435  0.133135  0.038992  0.040000  0.664581  0.965909  0.373333  0.00   \n",
       "436  0.135122  0.038655  0.030588  0.649562  0.965909  0.026667  0.00   \n",
       "437  0.175857  0.029916  0.030588  0.643304  0.954545  0.053333  0.00   \n",
       "\n",
       "            7  \n",
       "0    0.285714  \n",
       "1    0.250000  \n",
       "2    0.142857  \n",
       "3    0.178571  \n",
       "4    0.214286  \n",
       "..        ...  \n",
       "433  0.000000  \n",
       "434  0.000000  \n",
       "435  0.000000  \n",
       "436  0.000000  \n",
       "437  0.000000  \n",
       "\n",
       "[438 rows x 8 columns]"
      ]
     },
     "execution_count": 159,
     "metadata": {},
     "output_type": "execute_result"
    }
   ],
   "source": [
    "pd.DataFrame(test_x[:, -8:])"
   ]
  }
 ],
 "metadata": {
  "kernelspec": {
   "display_name": "tg",
   "language": "python",
   "name": "python3"
  },
  "language_info": {
   "codemirror_mode": {
    "name": "ipython",
    "version": 3
   },
   "file_extension": ".py",
   "mimetype": "text/x-python",
   "name": "python",
   "nbconvert_exporter": "python",
   "pygments_lexer": "ipython3",
   "version": "3.10.8"
  },
  "orig_nbformat": 4,
  "vscode": {
   "interpreter": {
    "hash": "2cc18cb9fc004dfda25f571ed5241362298593f3b121a4f4549524037c078fa4"
   }
  }
 },
 "nbformat": 4,
 "nbformat_minor": 2
}
