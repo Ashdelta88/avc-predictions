{
 "cells": [
  {
   "attachments": {},
   "cell_type": "markdown",
   "metadata": {},
   "source": [
    "### Machine Learning model based in a work from Ricardo Santos (jnj)\n",
    "* Split test and train data\n",
    "* Get some insights\n",
    "* Train the model"
   ]
  },
  {
   "cell_type": "markdown",
   "metadata": {},
   "source": [
    "Import libraries"
   ]
  },
  {
   "cell_type": "code",
   "execution_count": 1,
   "metadata": {},
   "outputs": [],
   "source": [
    "import pandas as pd, numpy as np, unicodedata\n",
    "import matplotlib.pyplot as plt, seaborn as sns"
   ]
  },
  {
   "cell_type": "code",
   "execution_count": 31,
   "metadata": {},
   "outputs": [],
   "source": [
    "from sklearn.model_selection import train_test_split\n",
    "from sklearn.model_selection import GroupKFold, cross_val_score, learning_curve, validation_curve\n",
    "from sklearn.feature_selection import RFECV, mutual_info_regression\n",
    "from sklearn.preprocessing import StandardScaler, QuantileTransformer, PowerTransformer\n",
    "from sklearn.pipeline import Pipeline\n",
    "from sklearn.impute import SimpleImputer\n",
    "from sklearn.dummy import DummyRegressor\n",
    "from sklearn.linear_model import Ridge\n",
    "from sklearn.kernel_ridge import KernelRidge\n",
    "from sklearn.experimental import enable_hist_gradient_boosting\n",
    "from sklearn.ensemble import RandomForestRegressor, HistGradientBoostingRegressor\n",
    "from mlxtend.feature_selection import SequentialFeatureSelector as SFS\n",
    "from mlxtend.plotting import plot_sequential_feature_selection as plot_sfs\n",
    "import xgboost as xgb"
   ]
  },
  {
   "cell_type": "code",
   "execution_count": 3,
   "metadata": {},
   "outputs": [],
   "source": [
    "import shap\n",
    "from sklearn import metrics\n",
    "import statsmodels.api as sm"
   ]
  },
  {
   "attachments": {},
   "cell_type": "markdown",
   "metadata": {},
   "source": [
    "Define Functions"
   ]
  },
  {
   "cell_type": "code",
   "execution_count": 4,
   "metadata": {},
   "outputs": [],
   "source": [
    "def check_performance(model, X_test, y_test):\n",
    "    print(\"MAE best model: %1.3f\" % np.expm1(metrics.mean_absolute_error(y_test, model.predict(X_test))))\n",
    "    print(\"Median Abs Err best model: %1.3f\" % np.expm1(metrics.median_absolute_error(y_test, model.predict(X_test))))\n",
    "    print(\"R\\u00b2 best model: %1.3f\" % metrics.r2_score(y_test, model.predict(X_test)))\n",
    "    print(\"Explained Variance best model: %1.3f\" % metrics.explained_variance_score(y_test, model.predict(X_test)))"
   ]
  },
  {
   "attachments": {},
   "cell_type": "markdown",
   "metadata": {},
   "source": [
    "Load data"
   ]
  },
  {
   "cell_type": "code",
   "execution_count": 21,
   "metadata": {},
   "outputs": [
    {
     "data": {
      "text/plain": [
       "0       2\n",
       "1       4\n",
       "2       2\n",
       "3       8\n",
       "4       5\n",
       "       ..\n",
       "1091    5\n",
       "1092    7\n",
       "1093    3\n",
       "1094    2\n",
       "1095    3\n",
       "Name: LAG0, Length: 1096, dtype: int64"
      ]
     },
     "execution_count": 21,
     "metadata": {},
     "output_type": "execute_result"
    }
   ],
   "source": [
    "avc = pd.read_parquet(\"../data/processed/avc-cuiaba.parquet\")"
   ]
  },
  {
   "attachments": {},
   "cell_type": "markdown",
   "metadata": {},
   "source": [
    "#### Creating column year to stratify the dataset"
   ]
  },
  {
   "cell_type": "code",
   "execution_count": 32,
   "metadata": {},
   "outputs": [],
   "source": [
    "avc[\"year\"] = avc.data.dt.year"
   ]
  },
  {
   "attachments": {},
   "cell_type": "markdown",
   "metadata": {},
   "source": [
    "#### Split dataset in train and test"
   ]
  },
  {
   "cell_type": "code",
   "execution_count": 33,
   "metadata": {},
   "outputs": [],
   "source": [
    "strat_train_set, strat_test_set = train_test_split(\n",
    "    avc, test_size=0.2, stratify=avc[\"year\"], random_state=42\n",
    ")"
   ]
  },
  {
   "cell_type": "code",
   "execution_count": 34,
   "metadata": {},
   "outputs": [
    {
     "data": {
      "text/plain": [
       "2016    0.336364\n",
       "2017    0.331818\n",
       "2018    0.331818\n",
       "Name: year, dtype: float64"
      ]
     },
     "execution_count": 34,
     "metadata": {},
     "output_type": "execute_result"
    }
   ],
   "source": [
    "# Look with the proportion is the same for all the years as expected\n",
    "strat_test_set[\"year\"].value_counts() / len(strat_test_set)"
   ]
  },
  {
   "attachments": {},
   "cell_type": "markdown",
   "metadata": {},
   "source": [
    "Check distribution of target class"
   ]
  },
  {
   "cell_type": "code",
   "execution_count": 27,
   "metadata": {},
   "outputs": [],
   "source": [
    "# quantile = QuantileTransformer(output_distribution='normal',n_quantiles=1000)\n",
    "# normal   = PowerTransformer()\n",
    "# y_qtl    = pd.DataFrame(quantile.fit_transform(avc[\"LAG0\"]), columns=['quantile'])\n",
    "# y_norm   = pd.DataFrame(normal.fit_transform(avc[\"LAG0\"]), columns=['normal'])"
   ]
  },
  {
   "attachments": {},
   "cell_type": "markdown",
   "metadata": {},
   "source": [
    "Define Baseline Regression Model"
   ]
  },
  {
   "cell_type": "code",
   "execution_count": 37,
   "metadata": {},
   "outputs": [],
   "source": [
    "def check_models(X, y, ids, n):\n",
    "    models = [DummyRegressor(),\\\n",
    "              Ridge(),\\\n",
    "              KernelRidge(kernel='rbf'),\\\n",
    "              RandomForestRegressor(),\\\n",
    "              xgb.XGBRegressor(random_state=2001),\\\n",
    "              HistGradientBoostingRegressor(random_state=2001)]\n",
    "    results = dict(model=[], score=[], std=[])\n",
    "    for m in models:\n",
    "        pipe = Pipeline([('imputer', SimpleImputer(strategy='most_frequent')),\\\n",
    "                         ('scaler', StandardScaler()),\\\n",
    "                         ('model', m)])\n",
    "        cv = GroupKFold(n_splits=n).split(X, y, ids)\n",
    "        s = cross_val_score(pipe, X, y.values.ravel(), scoring='explained_variance', cv=cv)\n",
    "        results['model'].append(str(pipe['model']).split('(')[0])\n",
    "        results['score'].append(s.mean())\n",
    "        results['std'].append(s.std())\n",
    "    return results"
   ]
  },
  {
   "cell_type": "code",
   "execution_count": 38,
   "metadata": {},
   "outputs": [],
   "source": [
    "avc = strat_train_set.drop(columns=[\"LOAVC\", \"LAG0\", \"DS\", \"data\"])\n",
    "avc_labels = strat_train_set.LOAVC.copy()"
   ]
  },
  {
   "cell_type": "code",
   "execution_count": 40,
   "metadata": {},
   "outputs": [
    {
     "ename": "TypeError",
     "evalue": "check_models() missing 1 required positional argument: 'ids'",
     "output_type": "error",
     "traceback": [
      "\u001b[0;31m---------------------------------------------------------------------------\u001b[0m",
      "\u001b[0;31mTypeError\u001b[0m                                 Traceback (most recent call last)",
      "Cell \u001b[0;32mIn [40], line 1\u001b[0m\n\u001b[0;32m----> 1\u001b[0m results \u001b[39m=\u001b[39m check_models(avc, avc_labels, n\u001b[39m=\u001b[39;49m\u001b[39m5\u001b[39;49m)\n",
      "\u001b[0;31mTypeError\u001b[0m: check_models() missing 1 required positional argument: 'ids'"
     ]
    }
   ],
   "source": [
    "results = check_models(avc, avc_labels, 4, n=5)"
   ]
  },
  {
   "cell_type": "code",
   "execution_count": null,
   "metadata": {},
   "outputs": [],
   "source": []
  }
 ],
 "metadata": {
  "kernelspec": {
   "display_name": "tg",
   "language": "python",
   "name": "python3"
  },
  "language_info": {
   "codemirror_mode": {
    "name": "ipython",
    "version": 3
   },
   "file_extension": ".py",
   "mimetype": "text/x-python",
   "name": "python",
   "nbconvert_exporter": "python",
   "pygments_lexer": "ipython3",
   "version": "3.10.8"
  },
  "orig_nbformat": 4,
  "vscode": {
   "interpreter": {
    "hash": "2cc18cb9fc004dfda25f571ed5241362298593f3b121a4f4549524037c078fa4"
   }
  }
 },
 "nbformat": 4,
 "nbformat_minor": 2
}
