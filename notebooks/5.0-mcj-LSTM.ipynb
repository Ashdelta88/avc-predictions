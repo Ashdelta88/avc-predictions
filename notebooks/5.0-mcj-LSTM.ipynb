{
 "cells": [
  {
   "attachments": {},
   "cell_type": "markdown",
   "metadata": {},
   "source": [
    "### LSTM model\n",
    "* Split test and train data\n",
    "* Get some insights\n",
    "* Train the model"
   ]
  },
  {
   "attachments": {},
   "cell_type": "markdown",
   "metadata": {},
   "source": [
    "Import libraries"
   ]
  },
  {
   "cell_type": "code",
   "execution_count": 1,
   "metadata": {},
   "outputs": [
    {
     "name": "stderr",
     "output_type": "stream",
     "text": [
      "2023-01-15 14:48:35.477997: I tensorflow/core/platform/cpu_feature_guard.cc:193] This TensorFlow binary is optimized with oneAPI Deep Neural Network Library (oneDNN) to use the following CPU instructions in performance-critical operations:  AVX2 FMA\n",
      "To enable them in other operations, rebuild TensorFlow with the appropriate compiler flags.\n",
      "2023-01-15 14:48:36.875982: W tensorflow/compiler/xla/stream_executor/platform/default/dso_loader.cc:64] Could not load dynamic library 'libnvinfer.so.7'; dlerror: libnvinfer.so.7: cannot open shared object file: No such file or directory\n",
      "2023-01-15 14:48:36.876112: W tensorflow/compiler/xla/stream_executor/platform/default/dso_loader.cc:64] Could not load dynamic library 'libnvinfer_plugin.so.7'; dlerror: libnvinfer_plugin.so.7: cannot open shared object file: No such file or directory\n",
      "2023-01-15 14:48:36.876118: W tensorflow/compiler/tf2tensorrt/utils/py_utils.cc:38] TF-TRT Warning: Cannot dlopen some TensorRT libraries. If you would like to use Nvidia GPU with TensorRT, please make sure the missing libraries mentioned above are installed properly.\n"
     ]
    }
   ],
   "source": [
    "import pandas as pd\n",
    "\n",
    "from matplotlib import pyplot\n",
    "\n",
    "from sklearn.preprocessing import MinMaxScaler\n",
    "from sklearn.model_selection import train_test_split\n",
    "from sklearn.metrics import mean_squared_error\n",
    "from keras.models import Sequential\n",
    "from keras.layers import Dense\n",
    "from keras.layers import LSTM\n",
    "from keras.callbacks import TensorBoard\n",
    "\n",
    "import tensorflow as tf\n",
    "\n",
    "\n",
    "from math import sqrt\n",
    "from numpy import concatenate"
   ]
  },
  {
   "cell_type": "code",
   "execution_count": 2,
   "metadata": {},
   "outputs": [],
   "source": [
    "tf.config.run_functions_eagerly(True)"
   ]
  },
  {
   "cell_type": "markdown",
   "metadata": {},
   "source": [
    "Defining functions"
   ]
  },
  {
   "cell_type": "code",
   "execution_count": 3,
   "metadata": {},
   "outputs": [],
   "source": [
    "# convert series to supervised learning\n",
    "def series_to_supervised(data, n_in=1, n_out=1, dropnan=True):\n",
    "    n_vars = 1 if type(data) is list else data.shape[1]\n",
    "    df = pd.DataFrame(data)\n",
    "    cols, names = list(), list()\n",
    "    # input sequence (t-n, ... t-1)\n",
    "    for i in range(n_in, 0, -1):\n",
    "        cols.append(df.shift(i))\n",
    "        names += [('var%d(t-%d)' % (j+1, i)) for j in range(n_vars)]\n",
    "    # forecast sequence (t, t+1, ... t+n)\n",
    "    for i in range(0, n_out):\n",
    "        cols.append(df.shift(-i))\n",
    "        if i == 0:\n",
    "            names += [('var%d(t)' % (j+1)) for j in range(n_vars)]\n",
    "        else:\n",
    "            names += [('var%d(t+%d)' % (j+1, i)) for j in range(n_vars)]\n",
    "    # put it all together\n",
    "    agg = pd.concat(cols, axis=1)\n",
    "    agg.columns = names\n",
    "    # drop rows with NaN values\n",
    "    if dropnan:\n",
    "        agg.dropna(inplace=True)\n",
    "    return agg"
   ]
  },
  {
   "attachments": {},
   "cell_type": "markdown",
   "metadata": {},
   "source": [
    "Load data"
   ]
  },
  {
   "cell_type": "code",
   "execution_count": 26,
   "metadata": {},
   "outputs": [
    {
     "data": {
      "text/html": [
       "<div>\n",
       "<style scoped>\n",
       "    .dataframe tbody tr th:only-of-type {\n",
       "        vertical-align: middle;\n",
       "    }\n",
       "\n",
       "    .dataframe tbody tr th {\n",
       "        vertical-align: top;\n",
       "    }\n",
       "\n",
       "    .dataframe thead th {\n",
       "        text-align: right;\n",
       "    }\n",
       "</style>\n",
       "<table border=\"1\" class=\"dataframe\">\n",
       "  <thead>\n",
       "    <tr style=\"text-align: right;\">\n",
       "      <th></th>\n",
       "      <th>date</th>\n",
       "      <th>co_ppb</th>\n",
       "      <th>o3_ppb</th>\n",
       "      <th>pm25_ugm3</th>\n",
       "      <th>so2_ugm3</th>\n",
       "      <th>temperatura_c</th>\n",
       "      <th>umidade_relativa_percentual</th>\n",
       "      <th>precipitacao_mmdia</th>\n",
       "      <th>focos_queimada</th>\n",
       "      <th>respiratory</th>\n",
       "      <th>avc</th>\n",
       "    </tr>\n",
       "  </thead>\n",
       "  <tbody>\n",
       "    <tr>\n",
       "      <th>0</th>\n",
       "      <td>2013-01-01</td>\n",
       "      <td>135.40</td>\n",
       "      <td>11.125</td>\n",
       "      <td>8.175</td>\n",
       "      <td>0.875</td>\n",
       "      <td>26.450</td>\n",
       "      <td>81.75</td>\n",
       "      <td>2.0</td>\n",
       "      <td>0.0</td>\n",
       "      <td>6.0</td>\n",
       "      <td>1.0</td>\n",
       "    </tr>\n",
       "    <tr>\n",
       "      <th>1</th>\n",
       "      <td>2013-01-02</td>\n",
       "      <td>155.05</td>\n",
       "      <td>10.925</td>\n",
       "      <td>11.675</td>\n",
       "      <td>1.000</td>\n",
       "      <td>26.400</td>\n",
       "      <td>82.00</td>\n",
       "      <td>2.0</td>\n",
       "      <td>0.0</td>\n",
       "      <td>8.0</td>\n",
       "      <td>0.0</td>\n",
       "    </tr>\n",
       "    <tr>\n",
       "      <th>2</th>\n",
       "      <td>2013-01-03</td>\n",
       "      <td>137.40</td>\n",
       "      <td>12.225</td>\n",
       "      <td>8.800</td>\n",
       "      <td>0.825</td>\n",
       "      <td>27.400</td>\n",
       "      <td>81.25</td>\n",
       "      <td>0.0</td>\n",
       "      <td>0.0</td>\n",
       "      <td>12.0</td>\n",
       "      <td>1.0</td>\n",
       "    </tr>\n",
       "    <tr>\n",
       "      <th>3</th>\n",
       "      <td>2013-01-04</td>\n",
       "      <td>128.30</td>\n",
       "      <td>13.750</td>\n",
       "      <td>11.650</td>\n",
       "      <td>0.925</td>\n",
       "      <td>27.750</td>\n",
       "      <td>76.25</td>\n",
       "      <td>1.0</td>\n",
       "      <td>0.0</td>\n",
       "      <td>9.0</td>\n",
       "      <td>0.0</td>\n",
       "    </tr>\n",
       "    <tr>\n",
       "      <th>4</th>\n",
       "      <td>2013-01-05</td>\n",
       "      <td>128.25</td>\n",
       "      <td>10.950</td>\n",
       "      <td>7.800</td>\n",
       "      <td>1.075</td>\n",
       "      <td>26.625</td>\n",
       "      <td>84.75</td>\n",
       "      <td>9.0</td>\n",
       "      <td>0.0</td>\n",
       "      <td>10.0</td>\n",
       "      <td>1.0</td>\n",
       "    </tr>\n",
       "  </tbody>\n",
       "</table>\n",
       "</div>"
      ],
      "text/plain": [
       "        date  co_ppb  o3_ppb  pm25_ugm3  so2_ugm3  temperatura_c  \\\n",
       "0 2013-01-01  135.40  11.125      8.175     0.875         26.450   \n",
       "1 2013-01-02  155.05  10.925     11.675     1.000         26.400   \n",
       "2 2013-01-03  137.40  12.225      8.800     0.825         27.400   \n",
       "3 2013-01-04  128.30  13.750     11.650     0.925         27.750   \n",
       "4 2013-01-05  128.25  10.950      7.800     1.075         26.625   \n",
       "\n",
       "   umidade_relativa_percentual  precipitacao_mmdia  focos_queimada  \\\n",
       "0                        81.75                 2.0             0.0   \n",
       "1                        82.00                 2.0             0.0   \n",
       "2                        81.25                 0.0             0.0   \n",
       "3                        76.25                 1.0             0.0   \n",
       "4                        84.75                 9.0             0.0   \n",
       "\n",
       "   respiratory  avc  \n",
       "0          6.0  1.0  \n",
       "1          8.0  0.0  \n",
       "2         12.0  1.0  \n",
       "3          9.0  0.0  \n",
       "4         10.0  1.0  "
      ]
     },
     "execution_count": 26,
     "metadata": {},
     "output_type": "execute_result"
    }
   ],
   "source": [
    "df = pd.read_parquet(\"../data/processed/new-avc.parquert\")\n",
    "df.head()"
   ]
  },
  {
   "cell_type": "code",
   "execution_count": 27,
   "metadata": {},
   "outputs": [
    {
     "name": "stdout",
     "output_type": "stream",
     "text": [
      "<class 'pandas.core.frame.DataFrame'>\n",
      "Int64Index: 2191 entries, 0 to 2190\n",
      "Data columns (total 11 columns):\n",
      " #   Column                       Non-Null Count  Dtype         \n",
      "---  ------                       --------------  -----         \n",
      " 0   date                         2191 non-null   datetime64[ns]\n",
      " 1   co_ppb                       2191 non-null   float64       \n",
      " 2   o3_ppb                       2191 non-null   float64       \n",
      " 3   pm25_ugm3                    2191 non-null   float64       \n",
      " 4   so2_ugm3                     2191 non-null   float64       \n",
      " 5   temperatura_c                2191 non-null   float64       \n",
      " 6   umidade_relativa_percentual  2191 non-null   float64       \n",
      " 7   precipitacao_mmdia           2191 non-null   float64       \n",
      " 8   focos_queimada               2191 non-null   float64       \n",
      " 9   respiratory                  2191 non-null   float64       \n",
      " 10  avc                          2191 non-null   float64       \n",
      "dtypes: datetime64[ns](1), float64(10)\n",
      "memory usage: 205.4 KB\n"
     ]
    }
   ],
   "source": [
    "df.info()"
   ]
  },
  {
   "cell_type": "code",
   "execution_count": 28,
   "metadata": {},
   "outputs": [
    {
     "data": {
      "text/html": [
       "<div>\n",
       "<style scoped>\n",
       "    .dataframe tbody tr th:only-of-type {\n",
       "        vertical-align: middle;\n",
       "    }\n",
       "\n",
       "    .dataframe tbody tr th {\n",
       "        vertical-align: top;\n",
       "    }\n",
       "\n",
       "    .dataframe thead th {\n",
       "        text-align: right;\n",
       "    }\n",
       "</style>\n",
       "<table border=\"1\" class=\"dataframe\">\n",
       "  <thead>\n",
       "    <tr style=\"text-align: right;\">\n",
       "      <th></th>\n",
       "      <th>co_ppb</th>\n",
       "      <th>o3_ppb</th>\n",
       "      <th>pm25_ugm3</th>\n",
       "      <th>so2_ugm3</th>\n",
       "      <th>temperatura_c</th>\n",
       "      <th>umidade_relativa_percentual</th>\n",
       "      <th>precipitacao_mmdia</th>\n",
       "      <th>focos_queimada</th>\n",
       "      <th>respiratory</th>\n",
       "      <th>avc</th>\n",
       "    </tr>\n",
       "    <tr>\n",
       "      <th>date</th>\n",
       "      <th></th>\n",
       "      <th></th>\n",
       "      <th></th>\n",
       "      <th></th>\n",
       "      <th></th>\n",
       "      <th></th>\n",
       "      <th></th>\n",
       "      <th></th>\n",
       "      <th></th>\n",
       "      <th></th>\n",
       "    </tr>\n",
       "  </thead>\n",
       "  <tbody>\n",
       "    <tr>\n",
       "      <th>2013-01-01</th>\n",
       "      <td>135.40</td>\n",
       "      <td>11.125</td>\n",
       "      <td>8.175</td>\n",
       "      <td>0.875</td>\n",
       "      <td>26.450</td>\n",
       "      <td>81.75</td>\n",
       "      <td>2.0</td>\n",
       "      <td>0.0</td>\n",
       "      <td>6.0</td>\n",
       "      <td>1.0</td>\n",
       "    </tr>\n",
       "    <tr>\n",
       "      <th>2013-01-02</th>\n",
       "      <td>155.05</td>\n",
       "      <td>10.925</td>\n",
       "      <td>11.675</td>\n",
       "      <td>1.000</td>\n",
       "      <td>26.400</td>\n",
       "      <td>82.00</td>\n",
       "      <td>2.0</td>\n",
       "      <td>0.0</td>\n",
       "      <td>8.0</td>\n",
       "      <td>0.0</td>\n",
       "    </tr>\n",
       "    <tr>\n",
       "      <th>2013-01-03</th>\n",
       "      <td>137.40</td>\n",
       "      <td>12.225</td>\n",
       "      <td>8.800</td>\n",
       "      <td>0.825</td>\n",
       "      <td>27.400</td>\n",
       "      <td>81.25</td>\n",
       "      <td>0.0</td>\n",
       "      <td>0.0</td>\n",
       "      <td>12.0</td>\n",
       "      <td>1.0</td>\n",
       "    </tr>\n",
       "    <tr>\n",
       "      <th>2013-01-04</th>\n",
       "      <td>128.30</td>\n",
       "      <td>13.750</td>\n",
       "      <td>11.650</td>\n",
       "      <td>0.925</td>\n",
       "      <td>27.750</td>\n",
       "      <td>76.25</td>\n",
       "      <td>1.0</td>\n",
       "      <td>0.0</td>\n",
       "      <td>9.0</td>\n",
       "      <td>0.0</td>\n",
       "    </tr>\n",
       "    <tr>\n",
       "      <th>2013-01-05</th>\n",
       "      <td>128.25</td>\n",
       "      <td>10.950</td>\n",
       "      <td>7.800</td>\n",
       "      <td>1.075</td>\n",
       "      <td>26.625</td>\n",
       "      <td>84.75</td>\n",
       "      <td>9.0</td>\n",
       "      <td>0.0</td>\n",
       "      <td>10.0</td>\n",
       "      <td>1.0</td>\n",
       "    </tr>\n",
       "  </tbody>\n",
       "</table>\n",
       "</div>"
      ],
      "text/plain": [
       "            co_ppb  o3_ppb  pm25_ugm3  so2_ugm3  temperatura_c  \\\n",
       "date                                                             \n",
       "2013-01-01  135.40  11.125      8.175     0.875         26.450   \n",
       "2013-01-02  155.05  10.925     11.675     1.000         26.400   \n",
       "2013-01-03  137.40  12.225      8.800     0.825         27.400   \n",
       "2013-01-04  128.30  13.750     11.650     0.925         27.750   \n",
       "2013-01-05  128.25  10.950      7.800     1.075         26.625   \n",
       "\n",
       "            umidade_relativa_percentual  precipitacao_mmdia  focos_queimada  \\\n",
       "date                                                                          \n",
       "2013-01-01                        81.75                 2.0             0.0   \n",
       "2013-01-02                        82.00                 2.0             0.0   \n",
       "2013-01-03                        81.25                 0.0             0.0   \n",
       "2013-01-04                        76.25                 1.0             0.0   \n",
       "2013-01-05                        84.75                 9.0             0.0   \n",
       "\n",
       "            respiratory  avc  \n",
       "date                          \n",
       "2013-01-01          6.0  1.0  \n",
       "2013-01-02          8.0  0.0  \n",
       "2013-01-03         12.0  1.0  \n",
       "2013-01-04          9.0  0.0  \n",
       "2013-01-05         10.0  1.0  "
      ]
     },
     "execution_count": 28,
     "metadata": {},
     "output_type": "execute_result"
    }
   ],
   "source": [
    "df = df.set_index(\"date\")\n",
    "df.head()"
   ]
  },
  {
   "cell_type": "code",
   "execution_count": 29,
   "metadata": {},
   "outputs": [
    {
     "data": {
      "image/png": "[encoded data removed]",
      "text/plain": [
       "<Figure size 640x480 with 10 Axes>"
      ]
     },
     "metadata": {},
     "output_type": "display_data"
    }
   ],
   "source": [
    "values = df.values\n",
    "# specify columns to plot\n",
    "groups = [0, 1, 2, 3, 4, 5, 6, 7, 8, 9]\n",
    "i = 1\n",
    "# plot each column\n",
    "pyplot.figure()\n",
    "for group in groups:\n",
    " pyplot.subplot(len(groups), 1, i)\n",
    " pyplot.plot(values[:, group])\n",
    " pyplot.title(df.columns[group], y=0.5, loc='right')\n",
    " i += 1\n",
    "pyplot.show()"
   ]
  },
  {
   "attachments": {},
   "cell_type": "markdown",
   "metadata": {},
   "source": [
    "Normalize features"
   ]
  },
  {
   "cell_type": "code",
   "execution_count": 30,
   "metadata": {},
   "outputs": [],
   "source": [
    "df = df.drop(columns=[\"avc\"])"
   ]
  },
  {
   "cell_type": "code",
   "execution_count": 31,
   "metadata": {},
   "outputs": [],
   "source": [
    "values = df.values"
   ]
  },
  {
   "cell_type": "code",
   "execution_count": 32,
   "metadata": {},
   "outputs": [],
   "source": [
    "scaler = MinMaxScaler(feature_range=(0, 1))\n",
    "scaled = scaler.fit_transform(values)"
   ]
  },
  {
   "attachments": {},
   "cell_type": "markdown",
   "metadata": {},
   "source": [
    "Apply series_to_supervised"
   ]
  },
  {
   "cell_type": "code",
   "execution_count": 33,
   "metadata": {},
   "outputs": [],
   "source": [
    "n_lags = 3"
   ]
  },
  {
   "cell_type": "code",
   "execution_count": 41,
   "metadata": {},
   "outputs": [],
   "source": [
    "df_sl = series_to_supervised(scaled, n_lags, 1)"
   ]
  },
  {
   "attachments": {},
   "cell_type": "markdown",
   "metadata": {},
   "source": [
    "Drop columns I don't want to predict"
   ]
  },
  {
   "cell_type": "code",
   "execution_count": 42,
   "metadata": {},
   "outputs": [],
   "source": [
    "df_sl.drop(df_sl.columns[[27, 28, 29, 30, 31, 32, 33, 34]], axis=1, inplace=True)"
   ]
  },
  {
   "cell_type": "code",
   "execution_count": 43,
   "metadata": {},
   "outputs": [
    {
     "data": {
      "text/html": [
       "<div>\n",
       "<style scoped>\n",
       "    .dataframe tbody tr th:only-of-type {\n",
       "        vertical-align: middle;\n",
       "    }\n",
       "\n",
       "    .dataframe tbody tr th {\n",
       "        vertical-align: top;\n",
       "    }\n",
       "\n",
       "    .dataframe thead th {\n",
       "        text-align: right;\n",
       "    }\n",
       "</style>\n",
       "<table border=\"1\" class=\"dataframe\">\n",
       "  <thead>\n",
       "    <tr style=\"text-align: right;\">\n",
       "      <th></th>\n",
       "      <th>var1(t-3)</th>\n",
       "      <th>var2(t-3)</th>\n",
       "      <th>var3(t-3)</th>\n",
       "      <th>var4(t-3)</th>\n",
       "      <th>var5(t-3)</th>\n",
       "      <th>var6(t-3)</th>\n",
       "      <th>var7(t-3)</th>\n",
       "      <th>var8(t-3)</th>\n",
       "      <th>var9(t-3)</th>\n",
       "      <th>var1(t-2)</th>\n",
       "      <th>...</th>\n",
       "      <th>var1(t-1)</th>\n",
       "      <th>var2(t-1)</th>\n",
       "      <th>var3(t-1)</th>\n",
       "      <th>var4(t-1)</th>\n",
       "      <th>var5(t-1)</th>\n",
       "      <th>var6(t-1)</th>\n",
       "      <th>var7(t-1)</th>\n",
       "      <th>var8(t-1)</th>\n",
       "      <th>var9(t-1)</th>\n",
       "      <th>var9(t)</th>\n",
       "    </tr>\n",
       "  </thead>\n",
       "  <tbody>\n",
       "    <tr>\n",
       "      <th>3</th>\n",
       "      <td>0.046447</td>\n",
       "      <td>0.170392</td>\n",
       "      <td>0.025462</td>\n",
       "      <td>0.056471</td>\n",
       "      <td>0.687109</td>\n",
       "      <td>0.746212</td>\n",
       "      <td>0.026667</td>\n",
       "      <td>0.0</td>\n",
       "      <td>0.214286</td>\n",
       "      <td>0.060167</td>\n",
       "      <td>...</td>\n",
       "      <td>0.047843</td>\n",
       "      <td>0.192250</td>\n",
       "      <td>0.027563</td>\n",
       "      <td>0.051765</td>\n",
       "      <td>0.734668</td>\n",
       "      <td>0.738636</td>\n",
       "      <td>0.000000</td>\n",
       "      <td>0.00</td>\n",
       "      <td>0.428571</td>\n",
       "      <td>0.321429</td>\n",
       "    </tr>\n",
       "    <tr>\n",
       "      <th>4</th>\n",
       "      <td>0.060167</td>\n",
       "      <td>0.166418</td>\n",
       "      <td>0.037227</td>\n",
       "      <td>0.068235</td>\n",
       "      <td>0.684606</td>\n",
       "      <td>0.750000</td>\n",
       "      <td>0.026667</td>\n",
       "      <td>0.0</td>\n",
       "      <td>0.285714</td>\n",
       "      <td>0.047843</td>\n",
       "      <td>...</td>\n",
       "      <td>0.041490</td>\n",
       "      <td>0.222553</td>\n",
       "      <td>0.037143</td>\n",
       "      <td>0.061176</td>\n",
       "      <td>0.752190</td>\n",
       "      <td>0.662879</td>\n",
       "      <td>0.013333</td>\n",
       "      <td>0.00</td>\n",
       "      <td>0.321429</td>\n",
       "      <td>0.357143</td>\n",
       "    </tr>\n",
       "    <tr>\n",
       "      <th>5</th>\n",
       "      <td>0.047843</td>\n",
       "      <td>0.192250</td>\n",
       "      <td>0.027563</td>\n",
       "      <td>0.051765</td>\n",
       "      <td>0.734668</td>\n",
       "      <td>0.738636</td>\n",
       "      <td>0.000000</td>\n",
       "      <td>0.0</td>\n",
       "      <td>0.428571</td>\n",
       "      <td>0.041490</td>\n",
       "      <td>...</td>\n",
       "      <td>0.041455</td>\n",
       "      <td>0.166915</td>\n",
       "      <td>0.024202</td>\n",
       "      <td>0.075294</td>\n",
       "      <td>0.695870</td>\n",
       "      <td>0.791667</td>\n",
       "      <td>0.120000</td>\n",
       "      <td>0.00</td>\n",
       "      <td>0.357143</td>\n",
       "      <td>0.142857</td>\n",
       "    </tr>\n",
       "    <tr>\n",
       "      <th>6</th>\n",
       "      <td>0.041490</td>\n",
       "      <td>0.222553</td>\n",
       "      <td>0.037143</td>\n",
       "      <td>0.061176</td>\n",
       "      <td>0.752190</td>\n",
       "      <td>0.662879</td>\n",
       "      <td>0.013333</td>\n",
       "      <td>0.0</td>\n",
       "      <td>0.321429</td>\n",
       "      <td>0.041455</td>\n",
       "      <td>...</td>\n",
       "      <td>0.028696</td>\n",
       "      <td>0.176354</td>\n",
       "      <td>0.017563</td>\n",
       "      <td>0.047059</td>\n",
       "      <td>0.720901</td>\n",
       "      <td>0.772727</td>\n",
       "      <td>0.013333</td>\n",
       "      <td>0.00</td>\n",
       "      <td>0.142857</td>\n",
       "      <td>0.214286</td>\n",
       "    </tr>\n",
       "    <tr>\n",
       "      <th>7</th>\n",
       "      <td>0.041455</td>\n",
       "      <td>0.166915</td>\n",
       "      <td>0.024202</td>\n",
       "      <td>0.075294</td>\n",
       "      <td>0.695870</td>\n",
       "      <td>0.791667</td>\n",
       "      <td>0.120000</td>\n",
       "      <td>0.0</td>\n",
       "      <td>0.357143</td>\n",
       "      <td>0.028696</td>\n",
       "      <td>...</td>\n",
       "      <td>0.039675</td>\n",
       "      <td>0.162444</td>\n",
       "      <td>0.018655</td>\n",
       "      <td>0.040000</td>\n",
       "      <td>0.732165</td>\n",
       "      <td>0.791667</td>\n",
       "      <td>0.000000</td>\n",
       "      <td>0.04</td>\n",
       "      <td>0.214286</td>\n",
       "      <td>0.250000</td>\n",
       "    </tr>\n",
       "  </tbody>\n",
       "</table>\n",
       "<p>5 rows × 28 columns</p>\n",
       "</div>"
      ],
      "text/plain": [
       "   var1(t-3)  var2(t-3)  var3(t-3)  var4(t-3)  var5(t-3)  var6(t-3)  \\\n",
       "3   0.046447   0.170392   0.025462   0.056471   0.687109   0.746212   \n",
       "4   0.060167   0.166418   0.037227   0.068235   0.684606   0.750000   \n",
       "5   0.047843   0.192250   0.027563   0.051765   0.734668   0.738636   \n",
       "6   0.041490   0.222553   0.037143   0.061176   0.752190   0.662879   \n",
       "7   0.041455   0.166915   0.024202   0.075294   0.695870   0.791667   \n",
       "\n",
       "   var7(t-3)  var8(t-3)  var9(t-3)  var1(t-2)  ...  var1(t-1)  var2(t-1)  \\\n",
       "3   0.026667        0.0   0.214286   0.060167  ...   0.047843   0.192250   \n",
       "4   0.026667        0.0   0.285714   0.047843  ...   0.041490   0.222553   \n",
       "5   0.000000        0.0   0.428571   0.041490  ...   0.041455   0.166915   \n",
       "6   0.013333        0.0   0.321429   0.041455  ...   0.028696   0.176354   \n",
       "7   0.120000        0.0   0.357143   0.028696  ...   0.039675   0.162444   \n",
       "\n",
       "   var3(t-1)  var4(t-1)  var5(t-1)  var6(t-1)  var7(t-1)  var8(t-1)  \\\n",
       "3   0.027563   0.051765   0.734668   0.738636   0.000000       0.00   \n",
       "4   0.037143   0.061176   0.752190   0.662879   0.013333       0.00   \n",
       "5   0.024202   0.075294   0.695870   0.791667   0.120000       0.00   \n",
       "6   0.017563   0.047059   0.720901   0.772727   0.013333       0.00   \n",
       "7   0.018655   0.040000   0.732165   0.791667   0.000000       0.04   \n",
       "\n",
       "   var9(t-1)   var9(t)  \n",
       "3   0.428571  0.321429  \n",
       "4   0.321429  0.357143  \n",
       "5   0.357143  0.142857  \n",
       "6   0.142857  0.214286  \n",
       "7   0.214286  0.250000  \n",
       "\n",
       "[5 rows x 28 columns]"
      ]
     },
     "execution_count": 43,
     "metadata": {},
     "output_type": "execute_result"
    }
   ],
   "source": [
    "df_sl.head()"
   ]
  },
  {
   "attachments": {},
   "cell_type": "markdown",
   "metadata": {},
   "source": [
    "Define and fit model"
   ]
  },
  {
   "attachments": {},
   "cell_type": "markdown",
   "metadata": {},
   "source": [
    "Split into train and test sets"
   ]
  },
  {
   "cell_type": "code",
   "execution_count": 44,
   "metadata": {},
   "outputs": [],
   "source": [
    "values = df_sl.values\n",
    "train_set, test_set = train_test_split(\n",
    "    df_sl, test_size=0.2, shuffle=False\n",
    ")"
   ]
  },
  {
   "cell_type": "code",
   "execution_count": 45,
   "metadata": {},
   "outputs": [],
   "source": [
    "train_X, train_Y = train_set.drop(\"var9(t)\", axis=1), train_set.drop(train_set.columns[:27], axis=1)\n",
    "test_X, test_Y = test_set.drop(\"var9(t)\", axis=1), test_set.drop(test_set.columns[:27], axis=1)"
   ]
  },
  {
   "attachments": {},
   "cell_type": "markdown",
   "metadata": {},
   "source": [
    "Reshape input to be 3D [samples, timesteps, features]"
   ]
  },
  {
   "cell_type": "code",
   "execution_count": 46,
   "metadata": {},
   "outputs": [],
   "source": [
    "train_x, test_x = train_X.values, test_X.values\n",
    "train_y, test_y = train_Y.values, test_Y.values"
   ]
  },
  {
   "cell_type": "code",
   "execution_count": 47,
   "metadata": {},
   "outputs": [],
   "source": [
    "train_x = train_x.reshape((train_x.shape[0], 1, train_x.shape[1]))\n",
    "test_x = test_x.reshape((test_x.shape[0], 1, test_x.shape[1]))"
   ]
  },
  {
   "attachments": {},
   "cell_type": "markdown",
   "metadata": {},
   "source": [
    "Design network"
   ]
  },
  {
   "cell_type": "code",
   "execution_count": 48,
   "metadata": {},
   "outputs": [],
   "source": [
    "model = Sequential()\n",
    "model.add(LSTM(50, input_shape=(train_x.shape[1], train_x.shape[2])))\n",
    "model.add(Dense(1))\n",
    "model.compile(loss='mae', optimizer='adam')\n"
   ]
  },
  {
   "attachments": {},
   "cell_type": "markdown",
   "metadata": {},
   "source": [
    "Fit network"
   ]
  },
  {
   "cell_type": "code",
   "execution_count": 49,
   "metadata": {},
   "outputs": [
    {
     "name": "stdout",
     "output_type": "stream",
     "text": [
      "Epoch 1/50\n"
     ]
    },
    {
     "name": "stderr",
     "output_type": "stream",
     "text": [
      "/home/matheus/miniconda3/envs/tg/lib/python3.10/site-packages/tensorflow/python/data/ops/structured_function.py:256: UserWarning: Even though the `tf.config.experimental_run_functions_eagerly` option is set, this option does not apply to tf.data functions. To force eager execution of tf.data functions, please use `tf.data.experimental.enable_debug_mode()`.\n",
      "  warnings.warn(\n"
     ]
    },
    {
     "name": "stdout",
     "output_type": "stream",
     "text": [
      "25/25 - 1s - loss: 0.1437 - val_loss: 0.1492 - 747ms/epoch - 30ms/step\n",
      "Epoch 2/50\n",
      "25/25 - 1s - loss: 0.1154 - val_loss: 0.1281 - 683ms/epoch - 27ms/step\n",
      "Epoch 3/50\n",
      "25/25 - 1s - loss: 0.1136 - val_loss: 0.1233 - 692ms/epoch - 28ms/step\n",
      "Epoch 4/50\n",
      "25/25 - 1s - loss: 0.1128 - val_loss: 0.1217 - 701ms/epoch - 28ms/step\n",
      "Epoch 5/50\n",
      "25/25 - 1s - loss: 0.1109 - val_loss: 0.1145 - 685ms/epoch - 27ms/step\n",
      "Epoch 6/50\n",
      "25/25 - 1s - loss: 0.1104 - val_loss: 0.1116 - 682ms/epoch - 27ms/step\n",
      "Epoch 7/50\n",
      "25/25 - 1s - loss: 0.1093 - val_loss: 0.1079 - 692ms/epoch - 28ms/step\n",
      "Epoch 8/50\n",
      "25/25 - 1s - loss: 0.1082 - val_loss: 0.1039 - 672ms/epoch - 27ms/step\n",
      "Epoch 9/50\n",
      "25/25 - 1s - loss: 0.1076 - val_loss: 0.1012 - 679ms/epoch - 27ms/step\n",
      "Epoch 10/50\n",
      "25/25 - 1s - loss: 0.1071 - val_loss: 0.0988 - 668ms/epoch - 27ms/step\n",
      "Epoch 11/50\n",
      "25/25 - 1s - loss: 0.1069 - val_loss: 0.0976 - 682ms/epoch - 27ms/step\n",
      "Epoch 12/50\n",
      "25/25 - 1s - loss: 0.1065 - val_loss: 0.0956 - 671ms/epoch - 27ms/step\n",
      "Epoch 13/50\n",
      "25/25 - 1s - loss: 0.1065 - val_loss: 0.0948 - 675ms/epoch - 27ms/step\n",
      "Epoch 14/50\n",
      "25/25 - 1s - loss: 0.1063 - val_loss: 0.0932 - 673ms/epoch - 27ms/step\n",
      "Epoch 15/50\n",
      "25/25 - 1s - loss: 0.1062 - val_loss: 0.0923 - 679ms/epoch - 27ms/step\n",
      "Epoch 16/50\n",
      "25/25 - 1s - loss: 0.1062 - val_loss: 0.0918 - 674ms/epoch - 27ms/step\n",
      "Epoch 17/50\n",
      "25/25 - 1s - loss: 0.1060 - val_loss: 0.0917 - 686ms/epoch - 27ms/step\n",
      "Epoch 18/50\n",
      "25/25 - 1s - loss: 0.1059 - val_loss: 0.0920 - 685ms/epoch - 27ms/step\n",
      "Epoch 19/50\n",
      "25/25 - 1s - loss: 0.1057 - val_loss: 0.0931 - 682ms/epoch - 27ms/step\n",
      "Epoch 20/50\n",
      "25/25 - 1s - loss: 0.1054 - val_loss: 0.0927 - 701ms/epoch - 28ms/step\n",
      "Epoch 21/50\n",
      "25/25 - 1s - loss: 0.1054 - val_loss: 0.0924 - 672ms/epoch - 27ms/step\n",
      "Epoch 22/50\n",
      "25/25 - 1s - loss: 0.1053 - val_loss: 0.0924 - 749ms/epoch - 30ms/step\n",
      "Epoch 23/50\n",
      "25/25 - 1s - loss: 0.1052 - val_loss: 0.0915 - 800ms/epoch - 32ms/step\n",
      "Epoch 24/50\n",
      "25/25 - 1s - loss: 0.1052 - val_loss: 0.0913 - 722ms/epoch - 29ms/step\n",
      "Epoch 25/50\n",
      "25/25 - 1s - loss: 0.1052 - val_loss: 0.0899 - 683ms/epoch - 27ms/step\n",
      "Epoch 26/50\n",
      "25/25 - 1s - loss: 0.1054 - val_loss: 0.0902 - 698ms/epoch - 28ms/step\n",
      "Epoch 27/50\n",
      "25/25 - 1s - loss: 0.1054 - val_loss: 0.0901 - 714ms/epoch - 29ms/step\n",
      "Epoch 28/50\n",
      "25/25 - 1s - loss: 0.1053 - val_loss: 0.0901 - 682ms/epoch - 27ms/step\n",
      "Epoch 29/50\n",
      "25/25 - 1s - loss: 0.1054 - val_loss: 0.0898 - 672ms/epoch - 27ms/step\n",
      "Epoch 30/50\n",
      "25/25 - 1s - loss: 0.1055 - val_loss: 0.0895 - 681ms/epoch - 27ms/step\n",
      "Epoch 31/50\n",
      "25/25 - 1s - loss: 0.1056 - val_loss: 0.0898 - 683ms/epoch - 27ms/step\n",
      "Epoch 32/50\n",
      "25/25 - 1s - loss: 0.1055 - val_loss: 0.0904 - 675ms/epoch - 27ms/step\n",
      "Epoch 33/50\n",
      "25/25 - 1s - loss: 0.1053 - val_loss: 0.0908 - 725ms/epoch - 29ms/step\n",
      "Epoch 34/50\n",
      "25/25 - 1s - loss: 0.1052 - val_loss: 0.0911 - 747ms/epoch - 30ms/step\n",
      "Epoch 35/50\n",
      "25/25 - 1s - loss: 0.1050 - val_loss: 0.0910 - 677ms/epoch - 27ms/step\n",
      "Epoch 36/50\n",
      "25/25 - 1s - loss: 0.1049 - val_loss: 0.0913 - 682ms/epoch - 27ms/step\n",
      "Epoch 37/50\n",
      "25/25 - 1s - loss: 0.1048 - val_loss: 0.0915 - 668ms/epoch - 27ms/step\n",
      "Epoch 38/50\n",
      "25/25 - 1s - loss: 0.1046 - val_loss: 0.0910 - 672ms/epoch - 27ms/step\n",
      "Epoch 39/50\n",
      "25/25 - 1s - loss: 0.1048 - val_loss: 0.0905 - 657ms/epoch - 26ms/step\n",
      "Epoch 40/50\n",
      "25/25 - 1s - loss: 0.1048 - val_loss: 0.0910 - 794ms/epoch - 32ms/step\n",
      "Epoch 41/50\n",
      "25/25 - 1s - loss: 0.1048 - val_loss: 0.0904 - 736ms/epoch - 29ms/step\n",
      "Epoch 42/50\n",
      "25/25 - 1s - loss: 0.1048 - val_loss: 0.0910 - 688ms/epoch - 28ms/step\n",
      "Epoch 43/50\n",
      "25/25 - 1s - loss: 0.1047 - val_loss: 0.0908 - 690ms/epoch - 28ms/step\n",
      "Epoch 44/50\n",
      "25/25 - 1s - loss: 0.1048 - val_loss: 0.0908 - 655ms/epoch - 26ms/step\n",
      "Epoch 45/50\n",
      "25/25 - 1s - loss: 0.1048 - val_loss: 0.0909 - 683ms/epoch - 27ms/step\n",
      "Epoch 46/50\n",
      "25/25 - 1s - loss: 0.1048 - val_loss: 0.0905 - 668ms/epoch - 27ms/step\n",
      "Epoch 47/50\n",
      "25/25 - 1s - loss: 0.1048 - val_loss: 0.0905 - 675ms/epoch - 27ms/step\n",
      "Epoch 48/50\n",
      "25/25 - 1s - loss: 0.1049 - val_loss: 0.0907 - 693ms/epoch - 28ms/step\n",
      "Epoch 49/50\n",
      "25/25 - 1s - loss: 0.1049 - val_loss: 0.0910 - 679ms/epoch - 27ms/step\n",
      "Epoch 50/50\n",
      "25/25 - 1s - loss: 0.1048 - val_loss: 0.0919 - 702ms/epoch - 28ms/step\n"
     ]
    }
   ],
   "source": [
    "history = model.fit(train_x, train_y, epochs=50, batch_size=72,\n",
    "    validation_data=(test_x, test_y), verbose=2, shuffle=False, callbacks=[TensorBoard(log_dir=\"logs/LSTM\")])"
   ]
  },
  {
   "attachments": {},
   "cell_type": "markdown",
   "metadata": {},
   "source": [
    "Plot history"
   ]
  },
  {
   "cell_type": "code",
   "execution_count": 50,
   "metadata": {},
   "outputs": [
    {
     "data": {
      "image/png": "[encoded data removed]",
      "text/plain": [
       "<Figure size 640x480 with 1 Axes>"
      ]
     },
     "metadata": {},
     "output_type": "display_data"
    }
   ],
   "source": [
    "pyplot.plot(history.history['loss'], label='train')\n",
    "pyplot.plot(history.history['val_loss'], label='test')\n",
    "pyplot.legend()\n",
    "pyplot.show()"
   ]
  },
  {
   "cell_type": "code",
   "execution_count": 51,
   "metadata": {},
   "outputs": [
    {
     "name": "stdout",
     "output_type": "stream",
     "text": [
      "14/14 [==============================] - 0s 7ms/step\n"
     ]
    },
    {
     "name": "stderr",
     "output_type": "stream",
     "text": [
      "/home/matheus/miniconda3/envs/tg/lib/python3.10/site-packages/tensorflow/python/data/ops/structured_function.py:256: UserWarning: Even though the `tf.config.experimental_run_functions_eagerly` option is set, this option does not apply to tf.data functions. To force eager execution of tf.data functions, please use `tf.data.experimental.enable_debug_mode()`.\n",
      "  warnings.warn(\n"
     ]
    }
   ],
   "source": [
    "# make a prediction\n",
    "yhat = model.predict(test_x)\n",
    "test_x = test_x.reshape((test_x.shape[0], test_x.shape[2]))"
   ]
  },
  {
   "cell_type": "code",
   "execution_count": 55,
   "metadata": {},
   "outputs": [],
   "source": [
    "# invert scaling for forecast\n",
    "inv_yhat = concatenate((test_x[:, -8:], yhat), axis=1)\n",
    "inv_yhat = scaler.inverse_transform(inv_yhat)\n",
    "inv_yhat = inv_yhat[:,8]"
   ]
  },
  {
   "cell_type": "code",
   "execution_count": 56,
   "metadata": {},
   "outputs": [],
   "source": [
    "# invert scaling for actual\n",
    "test_y = test_y.reshape((len(test_y), 1))\n",
    "inv_y = concatenate((test_x[:, -8:], test_y), axis=1)\n",
    "inv_y = scaler.inverse_transform(inv_y)\n",
    "inv_y = inv_y[:,8]"
   ]
  },
  {
   "cell_type": "code",
   "execution_count": 57,
   "metadata": {},
   "outputs": [
    {
     "name": "stdout",
     "output_type": "stream",
     "text": [
      "Test RMSE: 3.080\n"
     ]
    }
   ],
   "source": [
    "# calculate RMSE\n",
    "rmse = sqrt(mean_squared_error(inv_y, inv_yhat))\n",
    "print('Test RMSE: %.3f' % rmse)"
   ]
  },
  {
   "cell_type": "code",
   "execution_count": null,
   "metadata": {},
   "outputs": [],
   "source": []
  }
 ],
 "metadata": {
  "kernelspec": {
   "display_name": "tg",
   "language": "python",
   "name": "python3"
  },
  "language_info": {
   "codemirror_mode": {
    "name": "ipython",
    "version": 3
   },
   "file_extension": ".py",
   "mimetype": "text/x-python",
   "name": "python",
   "nbconvert_exporter": "python",
   "pygments_lexer": "ipython3",
   "version": "3.10.8 (main, Nov 24 2022, 14:13:03) [GCC 11.2.0]"
  },
  "orig_nbformat": 4,
  "vscode": {
   "interpreter": {
    "hash": "2cc18cb9fc004dfda25f571ed5241362298593f3b121a4f4549524037c078fa4"
   }
  }
 },
 "nbformat": 4,
 "nbformat_minor": 2
}
