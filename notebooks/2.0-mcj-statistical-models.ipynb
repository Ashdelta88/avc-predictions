{
 "cells": [
  {
   "cell_type": "markdown",
   "metadata": {
    "collapsed": false
   },
   "source": [
    "## Overview\n",
    "\n",
    "### Modeling\n",
    "\n",
    "* Read parquet file\n",
    "* Train SARIMA model"
   ]
  },
  {
   "cell_type": "markdown",
   "metadata": {
    "collapsed": false
   },
   "source": [
    "### Import libraries"
   ]
  },
  {
   "cell_type": "code",
   "execution_count": 3,
   "metadata": {
    "collapsed": false
   },
   "outputs": [],
   "source": [
    "import pandas as pd\n",
    "from statsmodels.tsa.arima.model import ARIMA"
   ]
  },
  {
   "cell_type": "markdown",
   "metadata": {
    "collapsed": false
   },
   "source": [
    "### Lead dataset"
   ]
  },
  {
   "cell_type": "code",
   "execution_count": 4,
   "metadata": {
    "collapsed": false
   },
   "outputs": [
    {
     "data": {
      "text/html": [
       "<div>\n",
       "<style scoped>\n",
       "    .dataframe tbody tr th:only-of-type {\n",
       "        vertical-align: middle;\n",
       "    }\n",
       "\n",
       "    .dataframe tbody tr th {\n",
       "        vertical-align: top;\n",
       "    }\n",
       "\n",
       "    .dataframe thead th {\n",
       "        text-align: right;\n",
       "    }\n",
       "</style>\n",
       "<table border=\"1\" class=\"dataframe\">\n",
       "  <thead>\n",
       "    <tr style=\"text-align: right;\">\n",
       "      <th></th>\n",
       "      <th>data</th>\n",
       "      <th>co_ppb</th>\n",
       "      <th>no2_ppb</th>\n",
       "      <th>o3_ppb</th>\n",
       "      <th>pm25_ugm3</th>\n",
       "      <th>so2_ugm3</th>\n",
       "      <th>TMAX</th>\n",
       "      <th>UR</th>\n",
       "      <th>PRESS</th>\n",
       "      <th>DS</th>\n",
       "      <th>LAG0</th>\n",
       "      <th>LOAVC</th>\n",
       "    </tr>\n",
       "  </thead>\n",
       "  <tbody>\n",
       "    <tr>\n",
       "      <th>0</th>\n",
       "      <td>2016-01-01</td>\n",
       "      <td>192.8</td>\n",
       "      <td>1.8</td>\n",
       "      <td>12.7</td>\n",
       "      <td>20.8</td>\n",
       "      <td>1.4</td>\n",
       "      <td>31.6</td>\n",
       "      <td>87.00</td>\n",
       "      <td>983.029167</td>\n",
       "      <td>0</td>\n",
       "      <td>2</td>\n",
       "      <td>0</td>\n",
       "    </tr>\n",
       "    <tr>\n",
       "      <th>1</th>\n",
       "      <td>2016-01-02</td>\n",
       "      <td>222.7</td>\n",
       "      <td>2.6</td>\n",
       "      <td>12.4</td>\n",
       "      <td>19.6</td>\n",
       "      <td>1.7</td>\n",
       "      <td>33.9</td>\n",
       "      <td>75.75</td>\n",
       "      <td>983.408333</td>\n",
       "      <td>1</td>\n",
       "      <td>4</td>\n",
       "      <td>0</td>\n",
       "    </tr>\n",
       "    <tr>\n",
       "      <th>2</th>\n",
       "      <td>2016-01-03</td>\n",
       "      <td>214.2</td>\n",
       "      <td>2.4</td>\n",
       "      <td>14.5</td>\n",
       "      <td>19.1</td>\n",
       "      <td>1.5</td>\n",
       "      <td>28.1</td>\n",
       "      <td>88.50</td>\n",
       "      <td>983.854167</td>\n",
       "      <td>1</td>\n",
       "      <td>2</td>\n",
       "      <td>1</td>\n",
       "    </tr>\n",
       "    <tr>\n",
       "      <th>3</th>\n",
       "      <td>2016-01-04</td>\n",
       "      <td>236.6</td>\n",
       "      <td>2.8</td>\n",
       "      <td>17.9</td>\n",
       "      <td>24.9</td>\n",
       "      <td>1.8</td>\n",
       "      <td>34.8</td>\n",
       "      <td>75.75</td>\n",
       "      <td>982.791667</td>\n",
       "      <td>0</td>\n",
       "      <td>8</td>\n",
       "      <td>1</td>\n",
       "    </tr>\n",
       "    <tr>\n",
       "      <th>4</th>\n",
       "      <td>2016-01-05</td>\n",
       "      <td>218.3</td>\n",
       "      <td>2.6</td>\n",
       "      <td>14.0</td>\n",
       "      <td>18.5</td>\n",
       "      <td>1.8</td>\n",
       "      <td>31.1</td>\n",
       "      <td>83.50</td>\n",
       "      <td>984.125000</td>\n",
       "      <td>0</td>\n",
       "      <td>5</td>\n",
       "      <td>1</td>\n",
       "    </tr>\n",
       "    <tr>\n",
       "      <th>...</th>\n",
       "      <td>...</td>\n",
       "      <td>...</td>\n",
       "      <td>...</td>\n",
       "      <td>...</td>\n",
       "      <td>...</td>\n",
       "      <td>...</td>\n",
       "      <td>...</td>\n",
       "      <td>...</td>\n",
       "      <td>...</td>\n",
       "      <td>...</td>\n",
       "      <td>...</td>\n",
       "      <td>...</td>\n",
       "    </tr>\n",
       "    <tr>\n",
       "      <th>1091</th>\n",
       "      <td>2018-12-27</td>\n",
       "      <td>176.2</td>\n",
       "      <td>3.7</td>\n",
       "      <td>13.7</td>\n",
       "      <td>23.0</td>\n",
       "      <td>2.5</td>\n",
       "      <td>33.5</td>\n",
       "      <td>73.00</td>\n",
       "      <td>981.450000</td>\n",
       "      <td>0</td>\n",
       "      <td>5</td>\n",
       "      <td>2</td>\n",
       "    </tr>\n",
       "    <tr>\n",
       "      <th>1092</th>\n",
       "      <td>2018-12-28</td>\n",
       "      <td>133.3</td>\n",
       "      <td>1.1</td>\n",
       "      <td>10.0</td>\n",
       "      <td>13.0</td>\n",
       "      <td>1.0</td>\n",
       "      <td>31.7</td>\n",
       "      <td>82.50</td>\n",
       "      <td>982.395833</td>\n",
       "      <td>0</td>\n",
       "      <td>7</td>\n",
       "      <td>0</td>\n",
       "    </tr>\n",
       "    <tr>\n",
       "      <th>1093</th>\n",
       "      <td>2018-12-29</td>\n",
       "      <td>136.1</td>\n",
       "      <td>1.0</td>\n",
       "      <td>11.5</td>\n",
       "      <td>13.8</td>\n",
       "      <td>0.9</td>\n",
       "      <td>31.2</td>\n",
       "      <td>80.50</td>\n",
       "      <td>982.372727</td>\n",
       "      <td>0</td>\n",
       "      <td>3</td>\n",
       "      <td>1</td>\n",
       "    </tr>\n",
       "    <tr>\n",
       "      <th>1094</th>\n",
       "      <td>2018-12-30</td>\n",
       "      <td>127.7</td>\n",
       "      <td>0.8</td>\n",
       "      <td>13.5</td>\n",
       "      <td>12.9</td>\n",
       "      <td>0.8</td>\n",
       "      <td>30.5</td>\n",
       "      <td>70.25</td>\n",
       "      <td>984.550000</td>\n",
       "      <td>1</td>\n",
       "      <td>2</td>\n",
       "      <td>0</td>\n",
       "    </tr>\n",
       "    <tr>\n",
       "      <th>1095</th>\n",
       "      <td>2018-12-31</td>\n",
       "      <td>126.8</td>\n",
       "      <td>1.6</td>\n",
       "      <td>6.9</td>\n",
       "      <td>14.6</td>\n",
       "      <td>1.3</td>\n",
       "      <td>27.1</td>\n",
       "      <td>90.50</td>\n",
       "      <td>983.391667</td>\n",
       "      <td>1</td>\n",
       "      <td>3</td>\n",
       "      <td>0</td>\n",
       "    </tr>\n",
       "  </tbody>\n",
       "</table>\n",
       "<p>1096 rows × 12 columns</p>\n",
       "</div>"
      ],
      "text/plain": [
       "           data  co_ppb  no2_ppb  o3_ppb  pm25_ugm3  so2_ugm3  TMAX     UR  \\\n",
       "0    2016-01-01   192.8      1.8    12.7       20.8       1.4  31.6  87.00   \n",
       "1    2016-01-02   222.7      2.6    12.4       19.6       1.7  33.9  75.75   \n",
       "2    2016-01-03   214.2      2.4    14.5       19.1       1.5  28.1  88.50   \n",
       "3    2016-01-04   236.6      2.8    17.9       24.9       1.8  34.8  75.75   \n",
       "4    2016-01-05   218.3      2.6    14.0       18.5       1.8  31.1  83.50   \n",
       "...         ...     ...      ...     ...        ...       ...   ...    ...   \n",
       "1091 2018-12-27   176.2      3.7    13.7       23.0       2.5  33.5  73.00   \n",
       "1092 2018-12-28   133.3      1.1    10.0       13.0       1.0  31.7  82.50   \n",
       "1093 2018-12-29   136.1      1.0    11.5       13.8       0.9  31.2  80.50   \n",
       "1094 2018-12-30   127.7      0.8    13.5       12.9       0.8  30.5  70.25   \n",
       "1095 2018-12-31   126.8      1.6     6.9       14.6       1.3  27.1  90.50   \n",
       "\n",
       "           PRESS  DS  LAG0  LOAVC  \n",
       "0     983.029167   0     2      0  \n",
       "1     983.408333   1     4      0  \n",
       "2     983.854167   1     2      1  \n",
       "3     982.791667   0     8      1  \n",
       "4     984.125000   0     5      1  \n",
       "...          ...  ..   ...    ...  \n",
       "1091  981.450000   0     5      2  \n",
       "1092  982.395833   0     7      0  \n",
       "1093  982.372727   0     3      1  \n",
       "1094  984.550000   1     2      0  \n",
       "1095  983.391667   1     3      0  \n",
       "\n",
       "[1096 rows x 12 columns]"
      ]
     },
     "execution_count": 4,
     "metadata": {},
     "output_type": "execute_result"
    }
   ],
   "source": [
    "df = pd.read_parquet(\"../data/processed/avc-cuiaba.parquet\")\n",
    "df"
   ]
  },
  {
   "cell_type": "code",
   "execution_count": 5,
   "metadata": {
    "collapsed": false
   },
   "outputs": [],
   "source": [
    "df = df.set_index(\"data\")"
   ]
  },
  {
   "cell_type": "code",
   "execution_count": 6,
   "metadata": {
    "collapsed": false
   },
   "outputs": [
    {
     "name": "stderr",
     "output_type": "stream",
     "text": [
      "/home/matheus/miniconda3/envs/tg/lib/python3.10/site-packages/statsmodels/tsa/statespace/sarimax.py:866: UserWarning: Too few observations to estimate starting parameters for seasonal ARMA. All parameters except for variances will be set to zeros.\n",
      "  warn('Too few observations to estimate starting parameters%s.'\n"
     ]
    }
   ],
   "source": [
    "start, end = \"2018-01-01\", \"2018-04-25\"\n",
    "\n",
    "avc_series = df.loc[start:end].PRESS.asfreq(\"D\")\n",
    "model = ARIMA(avc_series,\n",
    "              order=(1, 0, 0),\n",
    "              seasonal_order=(0, 1, 1, 30))\n",
    "model = model.fit()\n",
    "\n",
    "y_pred = model.forecast()"
   ]
  },
  {
   "cell_type": "code",
   "execution_count": 7,
   "metadata": {
    "collapsed": false
   },
   "outputs": [
    {
     "data": {
      "text/plain": [
       "2018-04-26    986.557316\n",
       "Freq: D, dtype: float64"
      ]
     },
     "execution_count": 7,
     "metadata": {},
     "output_type": "execute_result"
    }
   ],
   "source": [
    "y_pred"
   ]
  },
  {
   "cell_type": "code",
   "execution_count": 18,
   "metadata": {
    "collapsed": false
   },
   "outputs": [],
   "source": []
  }
 ],
 "metadata": {
  "kernelspec": {
   "display_name": "tg",
   "language": "python",
   "name": "python3"
  },
  "language_info": {
   "codemirror_mode": {
    "name": "ipython",
    "version": 2
   },
   "file_extension": ".py",
   "mimetype": "text/x-python",
   "name": "python",
   "nbconvert_exporter": "python",
   "pygments_lexer": "ipython2",
   "version": "3.10.8"
  },
  "vscode": {
   "interpreter": {
    "hash": "2cc18cb9fc004dfda25f571ed5241362298593f3b121a4f4549524037c078fa4"
   }
  }
 },
 "nbformat": 4,
 "nbformat_minor": 0
}
